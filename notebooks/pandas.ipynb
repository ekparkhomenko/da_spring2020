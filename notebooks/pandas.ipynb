{
 "cells": [
  {
   "cell_type": "markdown",
   "metadata": {},
   "source": [
    "# Pandas"
   ]
  },
  {
   "cell_type": "markdown",
   "metadata": {},
   "source": [
    "## Series"
   ]
  },
  {
   "cell_type": "code",
   "execution_count": 1,
   "metadata": {
    "ExecuteTime": {
     "end_time": "2019-12-11T16:29:24.291611Z",
     "start_time": "2019-12-11T16:29:23.478757Z"
    }
   },
   "outputs": [],
   "source": [
    "import numpy as np\n",
    "import pandas as pd"
   ]
  },
  {
   "cell_type": "code",
   "execution_count": 2,
   "metadata": {
    "ExecuteTime": {
     "end_time": "2019-12-11T16:29:24.299590Z",
     "start_time": "2019-12-11T16:29:24.293606Z"
    }
   },
   "outputs": [],
   "source": [
    "data = pd.Series([1, 2, 3, 4.5])"
   ]
  },
  {
   "cell_type": "code",
   "execution_count": 3,
   "metadata": {
    "ExecuteTime": {
     "end_time": "2019-12-11T16:29:24.322533Z",
     "start_time": "2019-12-11T16:29:24.302599Z"
    }
   },
   "outputs": [
    {
     "data": {
      "text/plain": [
       "0    1.0\n",
       "1    2.0\n",
       "2    3.0\n",
       "3    4.5\n",
       "dtype: float64"
      ]
     },
     "execution_count": 3,
     "metadata": {},
     "output_type": "execute_result"
    }
   ],
   "source": [
    "data"
   ]
  },
  {
   "cell_type": "code",
   "execution_count": 4,
   "metadata": {
    "ExecuteTime": {
     "end_time": "2019-12-11T16:29:24.332502Z",
     "start_time": "2019-12-11T16:29:24.324523Z"
    }
   },
   "outputs": [
    {
     "data": {
      "text/plain": [
       "pandas.core.series.Series"
      ]
     },
     "execution_count": 4,
     "metadata": {},
     "output_type": "execute_result"
    }
   ],
   "source": [
    "type(data)"
   ]
  },
  {
   "cell_type": "code",
   "execution_count": 5,
   "metadata": {
    "ExecuteTime": {
     "end_time": "2019-12-11T16:29:24.345468Z",
     "start_time": "2019-12-11T16:29:24.335495Z"
    }
   },
   "outputs": [
    {
     "data": {
      "text/plain": [
       "array([1. , 2. , 3. , 4.5])"
      ]
     },
     "execution_count": 5,
     "metadata": {},
     "output_type": "execute_result"
    }
   ],
   "source": [
    "data.values"
   ]
  },
  {
   "cell_type": "code",
   "execution_count": 6,
   "metadata": {
    "ExecuteTime": {
     "end_time": "2019-12-11T16:29:24.358083Z",
     "start_time": "2019-12-11T16:29:24.349107Z"
    }
   },
   "outputs": [
    {
     "data": {
      "text/plain": [
       "numpy.ndarray"
      ]
     },
     "execution_count": 6,
     "metadata": {},
     "output_type": "execute_result"
    }
   ],
   "source": [
    "type(data.values)"
   ]
  },
  {
   "cell_type": "code",
   "execution_count": 7,
   "metadata": {
    "ExecuteTime": {
     "end_time": "2019-12-11T16:29:24.377033Z",
     "start_time": "2019-12-11T16:29:24.364067Z"
    }
   },
   "outputs": [
    {
     "data": {
      "text/plain": [
       "a                 23.00\n",
       "qwerty         12345.00\n",
       "phi                3.14\n",
       "values smth       20.00\n",
       "dtype: float64"
      ]
     },
     "execution_count": 7,
     "metadata": {},
     "output_type": "execute_result"
    }
   ],
   "source": [
    "dict_ = {'a' : 23,\n",
    "         'qwerty' : 12345,\n",
    "         'phi' : 3.14, \n",
    "         'values smth':20}\n",
    "\n",
    "x =  pd.Series(dict_)\n",
    "x"
   ]
  },
  {
   "cell_type": "code",
   "execution_count": 8,
   "metadata": {
    "ExecuteTime": {
     "end_time": "2019-12-11T16:29:24.390998Z",
     "start_time": "2019-12-11T16:29:24.381021Z"
    }
   },
   "outputs": [
    {
     "data": {
      "text/plain": [
       "Index(['a', 'qwerty', 'phi', 'values smth'], dtype='object')"
      ]
     },
     "execution_count": 8,
     "metadata": {},
     "output_type": "execute_result"
    }
   ],
   "source": [
    "x.index"
   ]
  },
  {
   "cell_type": "code",
   "execution_count": 9,
   "metadata": {
    "ExecuteTime": {
     "end_time": "2019-12-11T16:29:24.401965Z",
     "start_time": "2019-12-11T16:29:24.394994Z"
    }
   },
   "outputs": [
    {
     "data": {
      "text/plain": [
       "3.14"
      ]
     },
     "execution_count": 9,
     "metadata": {},
     "output_type": "execute_result"
    }
   ],
   "source": [
    "x['phi']"
   ]
  },
  {
   "cell_type": "code",
   "execution_count": 10,
   "metadata": {
    "ExecuteTime": {
     "end_time": "2019-12-11T16:29:24.413935Z",
     "start_time": "2019-12-11T16:29:24.405955Z"
    }
   },
   "outputs": [
    {
     "data": {
      "text/plain": [
       "3.14"
      ]
     },
     "execution_count": 10,
     "metadata": {},
     "output_type": "execute_result"
    }
   ],
   "source": [
    "x.phi"
   ]
  },
  {
   "cell_type": "code",
   "execution_count": 11,
   "metadata": {
    "ExecuteTime": {
     "end_time": "2019-12-11T16:29:24.429891Z",
     "start_time": "2019-12-11T16:29:24.418921Z"
    }
   },
   "outputs": [
    {
     "name": "stdout",
     "output_type": "stream",
     "text": [
      "3097.78, 21.50, 3.14\n"
     ]
    }
   ],
   "source": [
    "print('{:.2f}, {:.2f}, {:.2f}'.format(x.mean(), x.median(), x.mode()[0]))"
   ]
  },
  {
   "cell_type": "code",
   "execution_count": 12,
   "metadata": {
    "ExecuteTime": {
     "end_time": "2019-12-11T16:29:24.444851Z",
     "start_time": "2019-12-11T16:29:24.434880Z"
    }
   },
   "outputs": [
    {
     "data": {
      "text/plain": [
       "a             -0.846220\n",
       "qwerty        -0.993772\n",
       "phi            0.001593\n",
       "values smth    0.912945\n",
       "dtype: float64"
      ]
     },
     "execution_count": 12,
     "metadata": {},
     "output_type": "execute_result"
    }
   ],
   "source": [
    "x.apply(np.sin)"
   ]
  },
  {
   "cell_type": "code",
   "execution_count": 13,
   "metadata": {
    "ExecuteTime": {
     "end_time": "2019-12-11T16:29:24.456845Z",
     "start_time": "2019-12-11T16:29:24.448867Z"
    }
   },
   "outputs": [
    {
     "data": {
      "text/plain": [
       "a               True\n",
       "qwerty          True\n",
       "phi            False\n",
       "values smth    False\n",
       "dtype: bool"
      ]
     },
     "execution_count": 13,
     "metadata": {},
     "output_type": "execute_result"
    }
   ],
   "source": [
    "x > 20"
   ]
  },
  {
   "cell_type": "code",
   "execution_count": 14,
   "metadata": {
    "ExecuteTime": {
     "end_time": "2019-12-11T16:29:24.470790Z",
     "start_time": "2019-12-11T16:29:24.461814Z"
    }
   },
   "outputs": [
    {
     "data": {
      "text/plain": [
       "a            23.0\n",
       "qwerty    12345.0\n",
       "dtype: float64"
      ]
     },
     "execution_count": 14,
     "metadata": {},
     "output_type": "execute_result"
    }
   ],
   "source": [
    "x[x > 20]"
   ]
  },
  {
   "cell_type": "markdown",
   "metadata": {},
   "source": [
    "## DataFrame"
   ]
  },
  {
   "cell_type": "code",
   "execution_count": 15,
   "metadata": {
    "ExecuteTime": {
     "end_time": "2019-12-11T16:29:24.483755Z",
     "start_time": "2019-12-11T16:29:24.473783Z"
    }
   },
   "outputs": [
    {
     "data": {
      "text/plain": [
       "array([[0.58893154, 0.05025255, 0.13330088, 0.88130587],\n",
       "       [0.06366221, 0.70419357, 0.78320306, 1.88856304],\n",
       "       [0.04937143, 0.93865932, 0.86820578, 1.27060448],\n",
       "       [0.1705353 , 0.08488634, 0.36541579, 0.39808534],\n",
       "       [0.15339954, 0.3114744 , 0.45979566, 0.74707936],\n",
       "       [0.33043316, 0.57599528, 0.03313728, 0.9328118 ],\n",
       "       [0.65514666, 0.00656898, 0.06077795, 0.75646174],\n",
       "       [0.25044093, 0.96867925, 0.72756289, 2.0831606 ],\n",
       "       [0.95246598, 0.65737033, 0.54420268, 2.30661551],\n",
       "       [0.14184457, 0.81785085, 0.1286727 , 1.19964656]])"
      ]
     },
     "execution_count": 15,
     "metadata": {},
     "output_type": "execute_result"
    }
   ],
   "source": [
    "x = np.random.random((10, 3))\n",
    "y = np.sum(x, axis=1) + np.random.normal(scale=0.3, size=(10))\n",
    "data = np.hstack((x, y.reshape(-1, 1)))\n",
    "\n",
    "data"
   ]
  },
  {
   "cell_type": "code",
   "execution_count": 16,
   "metadata": {
    "ExecuteTime": {
     "end_time": "2019-12-11T16:29:24.504700Z",
     "start_time": "2019-12-11T16:29:24.485751Z"
    }
   },
   "outputs": [
    {
     "data": {
      "text/html": [
       "<div>\n",
       "<style scoped>\n",
       "    .dataframe tbody tr th:only-of-type {\n",
       "        vertical-align: middle;\n",
       "    }\n",
       "\n",
       "    .dataframe tbody tr th {\n",
       "        vertical-align: top;\n",
       "    }\n",
       "\n",
       "    .dataframe thead th {\n",
       "        text-align: right;\n",
       "    }\n",
       "</style>\n",
       "<table border=\"1\" class=\"dataframe\">\n",
       "  <thead>\n",
       "    <tr style=\"text-align: right;\">\n",
       "      <th></th>\n",
       "      <th>0</th>\n",
       "      <th>1</th>\n",
       "      <th>2</th>\n",
       "      <th>3</th>\n",
       "    </tr>\n",
       "  </thead>\n",
       "  <tbody>\n",
       "    <tr>\n",
       "      <th>0</th>\n",
       "      <td>0.588932</td>\n",
       "      <td>0.050253</td>\n",
       "      <td>0.133301</td>\n",
       "      <td>0.881306</td>\n",
       "    </tr>\n",
       "    <tr>\n",
       "      <th>1</th>\n",
       "      <td>0.063662</td>\n",
       "      <td>0.704194</td>\n",
       "      <td>0.783203</td>\n",
       "      <td>1.888563</td>\n",
       "    </tr>\n",
       "    <tr>\n",
       "      <th>2</th>\n",
       "      <td>0.049371</td>\n",
       "      <td>0.938659</td>\n",
       "      <td>0.868206</td>\n",
       "      <td>1.270604</td>\n",
       "    </tr>\n",
       "    <tr>\n",
       "      <th>3</th>\n",
       "      <td>0.170535</td>\n",
       "      <td>0.084886</td>\n",
       "      <td>0.365416</td>\n",
       "      <td>0.398085</td>\n",
       "    </tr>\n",
       "    <tr>\n",
       "      <th>4</th>\n",
       "      <td>0.153400</td>\n",
       "      <td>0.311474</td>\n",
       "      <td>0.459796</td>\n",
       "      <td>0.747079</td>\n",
       "    </tr>\n",
       "    <tr>\n",
       "      <th>5</th>\n",
       "      <td>0.330433</td>\n",
       "      <td>0.575995</td>\n",
       "      <td>0.033137</td>\n",
       "      <td>0.932812</td>\n",
       "    </tr>\n",
       "    <tr>\n",
       "      <th>6</th>\n",
       "      <td>0.655147</td>\n",
       "      <td>0.006569</td>\n",
       "      <td>0.060778</td>\n",
       "      <td>0.756462</td>\n",
       "    </tr>\n",
       "    <tr>\n",
       "      <th>7</th>\n",
       "      <td>0.250441</td>\n",
       "      <td>0.968679</td>\n",
       "      <td>0.727563</td>\n",
       "      <td>2.083161</td>\n",
       "    </tr>\n",
       "    <tr>\n",
       "      <th>8</th>\n",
       "      <td>0.952466</td>\n",
       "      <td>0.657370</td>\n",
       "      <td>0.544203</td>\n",
       "      <td>2.306616</td>\n",
       "    </tr>\n",
       "    <tr>\n",
       "      <th>9</th>\n",
       "      <td>0.141845</td>\n",
       "      <td>0.817851</td>\n",
       "      <td>0.128673</td>\n",
       "      <td>1.199647</td>\n",
       "    </tr>\n",
       "  </tbody>\n",
       "</table>\n",
       "</div>"
      ],
      "text/plain": [
       "          0         1         2         3\n",
       "0  0.588932  0.050253  0.133301  0.881306\n",
       "1  0.063662  0.704194  0.783203  1.888563\n",
       "2  0.049371  0.938659  0.868206  1.270604\n",
       "3  0.170535  0.084886  0.365416  0.398085\n",
       "4  0.153400  0.311474  0.459796  0.747079\n",
       "5  0.330433  0.575995  0.033137  0.932812\n",
       "6  0.655147  0.006569  0.060778  0.756462\n",
       "7  0.250441  0.968679  0.727563  2.083161\n",
       "8  0.952466  0.657370  0.544203  2.306616\n",
       "9  0.141845  0.817851  0.128673  1.199647"
      ]
     },
     "execution_count": 16,
     "metadata": {},
     "output_type": "execute_result"
    }
   ],
   "source": [
    "pd.DataFrame(data)"
   ]
  },
  {
   "cell_type": "code",
   "execution_count": 17,
   "metadata": {
    "ExecuteTime": {
     "end_time": "2019-12-11T16:29:24.527641Z",
     "start_time": "2019-12-11T16:29:24.507692Z"
    }
   },
   "outputs": [
    {
     "data": {
      "text/html": [
       "<div>\n",
       "<style scoped>\n",
       "    .dataframe tbody tr th:only-of-type {\n",
       "        vertical-align: middle;\n",
       "    }\n",
       "\n",
       "    .dataframe tbody tr th {\n",
       "        vertical-align: top;\n",
       "    }\n",
       "\n",
       "    .dataframe thead th {\n",
       "        text-align: right;\n",
       "    }\n",
       "</style>\n",
       "<table border=\"1\" class=\"dataframe\">\n",
       "  <thead>\n",
       "    <tr style=\"text-align: right;\">\n",
       "      <th></th>\n",
       "      <th>feature_1</th>\n",
       "      <th>feature_2</th>\n",
       "      <th>feature_3</th>\n",
       "      <th>target</th>\n",
       "    </tr>\n",
       "  </thead>\n",
       "  <tbody>\n",
       "    <tr>\n",
       "      <th>0</th>\n",
       "      <td>0.588932</td>\n",
       "      <td>0.050253</td>\n",
       "      <td>0.133301</td>\n",
       "      <td>0.881306</td>\n",
       "    </tr>\n",
       "    <tr>\n",
       "      <th>1</th>\n",
       "      <td>0.063662</td>\n",
       "      <td>0.704194</td>\n",
       "      <td>0.783203</td>\n",
       "      <td>1.888563</td>\n",
       "    </tr>\n",
       "    <tr>\n",
       "      <th>2</th>\n",
       "      <td>0.049371</td>\n",
       "      <td>0.938659</td>\n",
       "      <td>0.868206</td>\n",
       "      <td>1.270604</td>\n",
       "    </tr>\n",
       "    <tr>\n",
       "      <th>3</th>\n",
       "      <td>0.170535</td>\n",
       "      <td>0.084886</td>\n",
       "      <td>0.365416</td>\n",
       "      <td>0.398085</td>\n",
       "    </tr>\n",
       "    <tr>\n",
       "      <th>4</th>\n",
       "      <td>0.153400</td>\n",
       "      <td>0.311474</td>\n",
       "      <td>0.459796</td>\n",
       "      <td>0.747079</td>\n",
       "    </tr>\n",
       "    <tr>\n",
       "      <th>5</th>\n",
       "      <td>0.330433</td>\n",
       "      <td>0.575995</td>\n",
       "      <td>0.033137</td>\n",
       "      <td>0.932812</td>\n",
       "    </tr>\n",
       "    <tr>\n",
       "      <th>6</th>\n",
       "      <td>0.655147</td>\n",
       "      <td>0.006569</td>\n",
       "      <td>0.060778</td>\n",
       "      <td>0.756462</td>\n",
       "    </tr>\n",
       "    <tr>\n",
       "      <th>7</th>\n",
       "      <td>0.250441</td>\n",
       "      <td>0.968679</td>\n",
       "      <td>0.727563</td>\n",
       "      <td>2.083161</td>\n",
       "    </tr>\n",
       "    <tr>\n",
       "      <th>8</th>\n",
       "      <td>0.952466</td>\n",
       "      <td>0.657370</td>\n",
       "      <td>0.544203</td>\n",
       "      <td>2.306616</td>\n",
       "    </tr>\n",
       "    <tr>\n",
       "      <th>9</th>\n",
       "      <td>0.141845</td>\n",
       "      <td>0.817851</td>\n",
       "      <td>0.128673</td>\n",
       "      <td>1.199647</td>\n",
       "    </tr>\n",
       "  </tbody>\n",
       "</table>\n",
       "</div>"
      ],
      "text/plain": [
       "   feature_1  feature_2  feature_3    target\n",
       "0   0.588932   0.050253   0.133301  0.881306\n",
       "1   0.063662   0.704194   0.783203  1.888563\n",
       "2   0.049371   0.938659   0.868206  1.270604\n",
       "3   0.170535   0.084886   0.365416  0.398085\n",
       "4   0.153400   0.311474   0.459796  0.747079\n",
       "5   0.330433   0.575995   0.033137  0.932812\n",
       "6   0.655147   0.006569   0.060778  0.756462\n",
       "7   0.250441   0.968679   0.727563  2.083161\n",
       "8   0.952466   0.657370   0.544203  2.306616\n",
       "9   0.141845   0.817851   0.128673  1.199647"
      ]
     },
     "execution_count": 17,
     "metadata": {},
     "output_type": "execute_result"
    }
   ],
   "source": [
    "pd.DataFrame(data, columns=['feature_1', 'feature_2', 'feature_3', 'target'])"
   ]
  },
  {
   "cell_type": "code",
   "execution_count": 18,
   "metadata": {
    "ExecuteTime": {
     "end_time": "2019-12-11T16:29:24.555086Z",
     "start_time": "2019-12-11T16:29:24.531628Z"
    }
   },
   "outputs": [
    {
     "data": {
      "text/html": [
       "<div>\n",
       "<style scoped>\n",
       "    .dataframe tbody tr th:only-of-type {\n",
       "        vertical-align: middle;\n",
       "    }\n",
       "\n",
       "    .dataframe tbody tr th {\n",
       "        vertical-align: top;\n",
       "    }\n",
       "\n",
       "    .dataframe thead th {\n",
       "        text-align: right;\n",
       "    }\n",
       "</style>\n",
       "<table border=\"1\" class=\"dataframe\">\n",
       "  <thead>\n",
       "    <tr style=\"text-align: right;\">\n",
       "      <th></th>\n",
       "      <th>feature_1</th>\n",
       "      <th>feature_2</th>\n",
       "      <th>feature_3</th>\n",
       "      <th>target</th>\n",
       "    </tr>\n",
       "  </thead>\n",
       "  <tbody>\n",
       "    <tr>\n",
       "      <th>obj1</th>\n",
       "      <td>0.588932</td>\n",
       "      <td>0.050253</td>\n",
       "      <td>0.133301</td>\n",
       "      <td>0.881306</td>\n",
       "    </tr>\n",
       "    <tr>\n",
       "      <th>obj2</th>\n",
       "      <td>0.063662</td>\n",
       "      <td>0.704194</td>\n",
       "      <td>0.783203</td>\n",
       "      <td>1.888563</td>\n",
       "    </tr>\n",
       "    <tr>\n",
       "      <th>obj3</th>\n",
       "      <td>0.049371</td>\n",
       "      <td>0.938659</td>\n",
       "      <td>0.868206</td>\n",
       "      <td>1.270604</td>\n",
       "    </tr>\n",
       "    <tr>\n",
       "      <th>obj4</th>\n",
       "      <td>0.170535</td>\n",
       "      <td>0.084886</td>\n",
       "      <td>0.365416</td>\n",
       "      <td>0.398085</td>\n",
       "    </tr>\n",
       "    <tr>\n",
       "      <th>obj5</th>\n",
       "      <td>0.153400</td>\n",
       "      <td>0.311474</td>\n",
       "      <td>0.459796</td>\n",
       "      <td>0.747079</td>\n",
       "    </tr>\n",
       "    <tr>\n",
       "      <th>obj6</th>\n",
       "      <td>0.330433</td>\n",
       "      <td>0.575995</td>\n",
       "      <td>0.033137</td>\n",
       "      <td>0.932812</td>\n",
       "    </tr>\n",
       "    <tr>\n",
       "      <th>obj7</th>\n",
       "      <td>0.655147</td>\n",
       "      <td>0.006569</td>\n",
       "      <td>0.060778</td>\n",
       "      <td>0.756462</td>\n",
       "    </tr>\n",
       "    <tr>\n",
       "      <th>obj8</th>\n",
       "      <td>0.250441</td>\n",
       "      <td>0.968679</td>\n",
       "      <td>0.727563</td>\n",
       "      <td>2.083161</td>\n",
       "    </tr>\n",
       "    <tr>\n",
       "      <th>obj9</th>\n",
       "      <td>0.952466</td>\n",
       "      <td>0.657370</td>\n",
       "      <td>0.544203</td>\n",
       "      <td>2.306616</td>\n",
       "    </tr>\n",
       "    <tr>\n",
       "      <th>obj10</th>\n",
       "      <td>0.141845</td>\n",
       "      <td>0.817851</td>\n",
       "      <td>0.128673</td>\n",
       "      <td>1.199647</td>\n",
       "    </tr>\n",
       "  </tbody>\n",
       "</table>\n",
       "</div>"
      ],
      "text/plain": [
       "       feature_1  feature_2  feature_3    target\n",
       "obj1    0.588932   0.050253   0.133301  0.881306\n",
       "obj2    0.063662   0.704194   0.783203  1.888563\n",
       "obj3    0.049371   0.938659   0.868206  1.270604\n",
       "obj4    0.170535   0.084886   0.365416  0.398085\n",
       "obj5    0.153400   0.311474   0.459796  0.747079\n",
       "obj6    0.330433   0.575995   0.033137  0.932812\n",
       "obj7    0.655147   0.006569   0.060778  0.756462\n",
       "obj8    0.250441   0.968679   0.727563  2.083161\n",
       "obj9    0.952466   0.657370   0.544203  2.306616\n",
       "obj10   0.141845   0.817851   0.128673  1.199647"
      ]
     },
     "execution_count": 18,
     "metadata": {},
     "output_type": "execute_result"
    }
   ],
   "source": [
    "df = pd.DataFrame(data, columns=['feature_1', 'feature_2', 'feature_3', 'target'], index=[f'obj{i + 1}' for i in range(10)])\n",
    "df"
   ]
  },
  {
   "cell_type": "code",
   "execution_count": 19,
   "metadata": {
    "ExecuteTime": {
     "end_time": "2019-12-11T16:29:24.566053Z",
     "start_time": "2019-12-11T16:29:24.558074Z"
    }
   },
   "outputs": [
    {
     "data": {
      "text/plain": [
       "array([[0.58893154, 0.05025255, 0.13330088, 0.88130587],\n",
       "       [0.06366221, 0.70419357, 0.78320306, 1.88856304],\n",
       "       [0.04937143, 0.93865932, 0.86820578, 1.27060448],\n",
       "       [0.1705353 , 0.08488634, 0.36541579, 0.39808534],\n",
       "       [0.15339954, 0.3114744 , 0.45979566, 0.74707936],\n",
       "       [0.33043316, 0.57599528, 0.03313728, 0.9328118 ],\n",
       "       [0.65514666, 0.00656898, 0.06077795, 0.75646174],\n",
       "       [0.25044093, 0.96867925, 0.72756289, 2.0831606 ],\n",
       "       [0.95246598, 0.65737033, 0.54420268, 2.30661551],\n",
       "       [0.14184457, 0.81785085, 0.1286727 , 1.19964656]])"
      ]
     },
     "execution_count": 19,
     "metadata": {},
     "output_type": "execute_result"
    }
   ],
   "source": [
    "df.values"
   ]
  },
  {
   "cell_type": "code",
   "execution_count": 20,
   "metadata": {
    "ExecuteTime": {
     "end_time": "2019-12-11T16:29:24.585001Z",
     "start_time": "2019-12-11T16:29:24.569046Z"
    }
   },
   "outputs": [
    {
     "data": {
      "text/html": [
       "<div>\n",
       "<style scoped>\n",
       "    .dataframe tbody tr th:only-of-type {\n",
       "        vertical-align: middle;\n",
       "    }\n",
       "\n",
       "    .dataframe tbody tr th {\n",
       "        vertical-align: top;\n",
       "    }\n",
       "\n",
       "    .dataframe thead th {\n",
       "        text-align: right;\n",
       "    }\n",
       "</style>\n",
       "<table border=\"1\" class=\"dataframe\">\n",
       "  <thead>\n",
       "    <tr style=\"text-align: right;\">\n",
       "      <th></th>\n",
       "      <th>feature_1</th>\n",
       "      <th>feature_2</th>\n",
       "      <th>feature_3</th>\n",
       "      <th>target</th>\n",
       "    </tr>\n",
       "  </thead>\n",
       "  <tbody>\n",
       "    <tr>\n",
       "      <th>obj1</th>\n",
       "      <td>0.588932</td>\n",
       "      <td>0.050253</td>\n",
       "      <td>0.133301</td>\n",
       "      <td>0.881306</td>\n",
       "    </tr>\n",
       "    <tr>\n",
       "      <th>obj2</th>\n",
       "      <td>0.063662</td>\n",
       "      <td>0.704194</td>\n",
       "      <td>0.783203</td>\n",
       "      <td>1.888563</td>\n",
       "    </tr>\n",
       "    <tr>\n",
       "      <th>obj3</th>\n",
       "      <td>0.049371</td>\n",
       "      <td>0.938659</td>\n",
       "      <td>0.868206</td>\n",
       "      <td>1.270604</td>\n",
       "    </tr>\n",
       "    <tr>\n",
       "      <th>obj4</th>\n",
       "      <td>0.170535</td>\n",
       "      <td>0.084886</td>\n",
       "      <td>0.365416</td>\n",
       "      <td>0.398085</td>\n",
       "    </tr>\n",
       "    <tr>\n",
       "      <th>obj5</th>\n",
       "      <td>0.153400</td>\n",
       "      <td>0.311474</td>\n",
       "      <td>0.459796</td>\n",
       "      <td>0.747079</td>\n",
       "    </tr>\n",
       "  </tbody>\n",
       "</table>\n",
       "</div>"
      ],
      "text/plain": [
       "      feature_1  feature_2  feature_3    target\n",
       "obj1   0.588932   0.050253   0.133301  0.881306\n",
       "obj2   0.063662   0.704194   0.783203  1.888563\n",
       "obj3   0.049371   0.938659   0.868206  1.270604\n",
       "obj4   0.170535   0.084886   0.365416  0.398085\n",
       "obj5   0.153400   0.311474   0.459796  0.747079"
      ]
     },
     "execution_count": 20,
     "metadata": {},
     "output_type": "execute_result"
    }
   ],
   "source": [
    "df.head()"
   ]
  },
  {
   "cell_type": "code",
   "execution_count": 21,
   "metadata": {
    "ExecuteTime": {
     "end_time": "2019-12-11T16:29:24.599961Z",
     "start_time": "2019-12-11T16:29:24.587994Z"
    }
   },
   "outputs": [
    {
     "data": {
      "text/html": [
       "<div>\n",
       "<style scoped>\n",
       "    .dataframe tbody tr th:only-of-type {\n",
       "        vertical-align: middle;\n",
       "    }\n",
       "\n",
       "    .dataframe tbody tr th {\n",
       "        vertical-align: top;\n",
       "    }\n",
       "\n",
       "    .dataframe thead th {\n",
       "        text-align: right;\n",
       "    }\n",
       "</style>\n",
       "<table border=\"1\" class=\"dataframe\">\n",
       "  <thead>\n",
       "    <tr style=\"text-align: right;\">\n",
       "      <th></th>\n",
       "      <th>feature_1</th>\n",
       "      <th>feature_2</th>\n",
       "      <th>feature_3</th>\n",
       "      <th>target</th>\n",
       "    </tr>\n",
       "  </thead>\n",
       "  <tbody>\n",
       "    <tr>\n",
       "      <th>obj8</th>\n",
       "      <td>0.250441</td>\n",
       "      <td>0.968679</td>\n",
       "      <td>0.727563</td>\n",
       "      <td>2.083161</td>\n",
       "    </tr>\n",
       "    <tr>\n",
       "      <th>obj9</th>\n",
       "      <td>0.952466</td>\n",
       "      <td>0.657370</td>\n",
       "      <td>0.544203</td>\n",
       "      <td>2.306616</td>\n",
       "    </tr>\n",
       "    <tr>\n",
       "      <th>obj10</th>\n",
       "      <td>0.141845</td>\n",
       "      <td>0.817851</td>\n",
       "      <td>0.128673</td>\n",
       "      <td>1.199647</td>\n",
       "    </tr>\n",
       "  </tbody>\n",
       "</table>\n",
       "</div>"
      ],
      "text/plain": [
       "       feature_1  feature_2  feature_3    target\n",
       "obj8    0.250441   0.968679   0.727563  2.083161\n",
       "obj9    0.952466   0.657370   0.544203  2.306616\n",
       "obj10   0.141845   0.817851   0.128673  1.199647"
      ]
     },
     "execution_count": 21,
     "metadata": {},
     "output_type": "execute_result"
    }
   ],
   "source": [
    "df.tail(3)"
   ]
  },
  {
   "cell_type": "code",
   "execution_count": 22,
   "metadata": {
    "ExecuteTime": {
     "end_time": "2019-12-11T16:29:24.611930Z",
     "start_time": "2019-12-11T16:29:24.605946Z"
    }
   },
   "outputs": [
    {
     "data": {
      "text/plain": [
       "Index(['feature_1', 'feature_2', 'feature_3', 'target'], dtype='object')"
      ]
     },
     "execution_count": 22,
     "metadata": {},
     "output_type": "execute_result"
    }
   ],
   "source": [
    "df.columns"
   ]
  },
  {
   "cell_type": "code",
   "execution_count": 23,
   "metadata": {
    "ExecuteTime": {
     "end_time": "2019-12-11T16:29:24.622900Z",
     "start_time": "2019-12-11T16:29:24.615919Z"
    }
   },
   "outputs": [
    {
     "data": {
      "text/plain": [
       "Index(['obj1', 'obj2', 'obj3', 'obj4', 'obj5', 'obj6', 'obj7', 'obj8', 'obj9',\n",
       "       'obj10'],\n",
       "      dtype='object')"
      ]
     },
     "execution_count": 23,
     "metadata": {},
     "output_type": "execute_result"
    }
   ],
   "source": [
    "df.index"
   ]
  },
  {
   "cell_type": "code",
   "execution_count": 24,
   "metadata": {
    "ExecuteTime": {
     "end_time": "2019-12-11T16:29:24.641850Z",
     "start_time": "2019-12-11T16:29:24.625894Z"
    }
   },
   "outputs": [
    {
     "data": {
      "text/html": [
       "<div>\n",
       "<style scoped>\n",
       "    .dataframe tbody tr th:only-of-type {\n",
       "        vertical-align: middle;\n",
       "    }\n",
       "\n",
       "    .dataframe tbody tr th {\n",
       "        vertical-align: top;\n",
       "    }\n",
       "\n",
       "    .dataframe thead th {\n",
       "        text-align: right;\n",
       "    }\n",
       "</style>\n",
       "<table border=\"1\" class=\"dataframe\">\n",
       "  <thead>\n",
       "    <tr style=\"text-align: right;\">\n",
       "      <th></th>\n",
       "      <th>feature_1</th>\n",
       "      <th>feature_2</th>\n",
       "      <th>feature_3</th>\n",
       "      <th>target</th>\n",
       "    </tr>\n",
       "  </thead>\n",
       "  <tbody>\n",
       "    <tr>\n",
       "      <th>new_obj1</th>\n",
       "      <td>0.588932</td>\n",
       "      <td>0.050253</td>\n",
       "      <td>0.133301</td>\n",
       "      <td>0.881306</td>\n",
       "    </tr>\n",
       "    <tr>\n",
       "      <th>new_obj2</th>\n",
       "      <td>0.063662</td>\n",
       "      <td>0.704194</td>\n",
       "      <td>0.783203</td>\n",
       "      <td>1.888563</td>\n",
       "    </tr>\n",
       "    <tr>\n",
       "      <th>new_obj3</th>\n",
       "      <td>0.049371</td>\n",
       "      <td>0.938659</td>\n",
       "      <td>0.868206</td>\n",
       "      <td>1.270604</td>\n",
       "    </tr>\n",
       "    <tr>\n",
       "      <th>new_obj4</th>\n",
       "      <td>0.170535</td>\n",
       "      <td>0.084886</td>\n",
       "      <td>0.365416</td>\n",
       "      <td>0.398085</td>\n",
       "    </tr>\n",
       "    <tr>\n",
       "      <th>new_obj5</th>\n",
       "      <td>0.153400</td>\n",
       "      <td>0.311474</td>\n",
       "      <td>0.459796</td>\n",
       "      <td>0.747079</td>\n",
       "    </tr>\n",
       "    <tr>\n",
       "      <th>new_obj6</th>\n",
       "      <td>0.330433</td>\n",
       "      <td>0.575995</td>\n",
       "      <td>0.033137</td>\n",
       "      <td>0.932812</td>\n",
       "    </tr>\n",
       "    <tr>\n",
       "      <th>new_obj7</th>\n",
       "      <td>0.655147</td>\n",
       "      <td>0.006569</td>\n",
       "      <td>0.060778</td>\n",
       "      <td>0.756462</td>\n",
       "    </tr>\n",
       "    <tr>\n",
       "      <th>new_obj8</th>\n",
       "      <td>0.250441</td>\n",
       "      <td>0.968679</td>\n",
       "      <td>0.727563</td>\n",
       "      <td>2.083161</td>\n",
       "    </tr>\n",
       "    <tr>\n",
       "      <th>new_obj9</th>\n",
       "      <td>0.952466</td>\n",
       "      <td>0.657370</td>\n",
       "      <td>0.544203</td>\n",
       "      <td>2.306616</td>\n",
       "    </tr>\n",
       "    <tr>\n",
       "      <th>new_obj10</th>\n",
       "      <td>0.141845</td>\n",
       "      <td>0.817851</td>\n",
       "      <td>0.128673</td>\n",
       "      <td>1.199647</td>\n",
       "    </tr>\n",
       "  </tbody>\n",
       "</table>\n",
       "</div>"
      ],
      "text/plain": [
       "           feature_1  feature_2  feature_3    target\n",
       "new_obj1    0.588932   0.050253   0.133301  0.881306\n",
       "new_obj2    0.063662   0.704194   0.783203  1.888563\n",
       "new_obj3    0.049371   0.938659   0.868206  1.270604\n",
       "new_obj4    0.170535   0.084886   0.365416  0.398085\n",
       "new_obj5    0.153400   0.311474   0.459796  0.747079\n",
       "new_obj6    0.330433   0.575995   0.033137  0.932812\n",
       "new_obj7    0.655147   0.006569   0.060778  0.756462\n",
       "new_obj8    0.250441   0.968679   0.727563  2.083161\n",
       "new_obj9    0.952466   0.657370   0.544203  2.306616\n",
       "new_obj10   0.141845   0.817851   0.128673  1.199647"
      ]
     },
     "execution_count": 24,
     "metadata": {},
     "output_type": "execute_result"
    }
   ],
   "source": [
    "df.index = [f'new_obj{i+1}' for i in range(10)]\n",
    "df"
   ]
  },
  {
   "cell_type": "code",
   "execution_count": 25,
   "metadata": {
    "ExecuteTime": {
     "end_time": "2019-12-11T16:29:24.651823Z",
     "start_time": "2019-12-11T16:29:24.643844Z"
    }
   },
   "outputs": [
    {
     "data": {
      "text/plain": [
       "new_obj1     0.588932\n",
       "new_obj2     0.063662\n",
       "new_obj3     0.049371\n",
       "new_obj4     0.170535\n",
       "new_obj5     0.153400\n",
       "new_obj6     0.330433\n",
       "new_obj7     0.655147\n",
       "new_obj8     0.250441\n",
       "new_obj9     0.952466\n",
       "new_obj10    0.141845\n",
       "Name: feature_1, dtype: float64"
      ]
     },
     "execution_count": 25,
     "metadata": {},
     "output_type": "execute_result"
    }
   ],
   "source": [
    "df['feature_1']"
   ]
  },
  {
   "cell_type": "code",
   "execution_count": 26,
   "metadata": {
    "ExecuteTime": {
     "end_time": "2019-12-11T16:29:24.660799Z",
     "start_time": "2019-12-11T16:29:24.653818Z"
    }
   },
   "outputs": [
    {
     "data": {
      "text/plain": [
       "pandas.core.series.Series"
      ]
     },
     "execution_count": 26,
     "metadata": {},
     "output_type": "execute_result"
    }
   ],
   "source": [
    "type(df['feature_1'])"
   ]
  },
  {
   "cell_type": "code",
   "execution_count": 27,
   "metadata": {
    "ExecuteTime": {
     "end_time": "2019-12-11T16:29:24.670773Z",
     "start_time": "2019-12-11T16:29:24.662794Z"
    }
   },
   "outputs": [
    {
     "name": "stdout",
     "output_type": "stream",
     "text": [
      "Oops... No way!\n"
     ]
    }
   ],
   "source": [
    "try: \n",
    "    df['feature_1':'feature_3']\n",
    "except Exception:\n",
    "    print('Oops... No way!')"
   ]
  },
  {
   "cell_type": "code",
   "execution_count": 28,
   "metadata": {
    "ExecuteTime": {
     "end_time": "2019-12-11T16:29:24.687727Z",
     "start_time": "2019-12-11T16:29:24.672767Z"
    }
   },
   "outputs": [
    {
     "data": {
      "text/html": [
       "<div>\n",
       "<style scoped>\n",
       "    .dataframe tbody tr th:only-of-type {\n",
       "        vertical-align: middle;\n",
       "    }\n",
       "\n",
       "    .dataframe tbody tr th {\n",
       "        vertical-align: top;\n",
       "    }\n",
       "\n",
       "    .dataframe thead th {\n",
       "        text-align: right;\n",
       "    }\n",
       "</style>\n",
       "<table border=\"1\" class=\"dataframe\">\n",
       "  <thead>\n",
       "    <tr style=\"text-align: right;\">\n",
       "      <th></th>\n",
       "      <th>feature_1</th>\n",
       "      <th>feature_2</th>\n",
       "      <th>feature_3</th>\n",
       "      <th>target</th>\n",
       "    </tr>\n",
       "  </thead>\n",
       "  <tbody>\n",
       "    <tr>\n",
       "      <th>new_obj1</th>\n",
       "      <td>0.588932</td>\n",
       "      <td>0.050253</td>\n",
       "      <td>0.133301</td>\n",
       "      <td>0.881306</td>\n",
       "    </tr>\n",
       "    <tr>\n",
       "      <th>new_obj2</th>\n",
       "      <td>0.063662</td>\n",
       "      <td>0.704194</td>\n",
       "      <td>0.783203</td>\n",
       "      <td>1.888563</td>\n",
       "    </tr>\n",
       "    <tr>\n",
       "      <th>new_obj3</th>\n",
       "      <td>0.049371</td>\n",
       "      <td>0.938659</td>\n",
       "      <td>0.868206</td>\n",
       "      <td>1.270604</td>\n",
       "    </tr>\n",
       "    <tr>\n",
       "      <th>new_obj4</th>\n",
       "      <td>0.170535</td>\n",
       "      <td>0.084886</td>\n",
       "      <td>0.365416</td>\n",
       "      <td>0.398085</td>\n",
       "    </tr>\n",
       "  </tbody>\n",
       "</table>\n",
       "</div>"
      ],
      "text/plain": [
       "          feature_1  feature_2  feature_3    target\n",
       "new_obj1   0.588932   0.050253   0.133301  0.881306\n",
       "new_obj2   0.063662   0.704194   0.783203  1.888563\n",
       "new_obj3   0.049371   0.938659   0.868206  1.270604\n",
       "new_obj4   0.170535   0.084886   0.365416  0.398085"
      ]
     },
     "execution_count": 28,
     "metadata": {},
     "output_type": "execute_result"
    }
   ],
   "source": [
    "df['new_obj1':'new_obj4']"
   ]
  },
  {
   "cell_type": "code",
   "execution_count": 29,
   "metadata": {
    "ExecuteTime": {
     "end_time": "2019-12-11T16:29:24.697700Z",
     "start_time": "2019-12-11T16:29:24.689723Z"
    }
   },
   "outputs": [
    {
     "data": {
      "text/plain": [
       "new_obj1    0.588932\n",
       "new_obj2    0.063662\n",
       "new_obj3    0.049371\n",
       "new_obj4    0.170535\n",
       "Name: feature_1, dtype: float64"
      ]
     },
     "execution_count": 29,
     "metadata": {},
     "output_type": "execute_result"
    }
   ],
   "source": [
    "df.loc['new_obj1':'new_obj4', 'feature_1']"
   ]
  },
  {
   "cell_type": "code",
   "execution_count": 30,
   "metadata": {
    "ExecuteTime": {
     "end_time": "2019-12-11T16:29:24.713658Z",
     "start_time": "2019-12-11T16:29:24.700693Z"
    }
   },
   "outputs": [
    {
     "data": {
      "text/html": [
       "<div>\n",
       "<style scoped>\n",
       "    .dataframe tbody tr th:only-of-type {\n",
       "        vertical-align: middle;\n",
       "    }\n",
       "\n",
       "    .dataframe tbody tr th {\n",
       "        vertical-align: top;\n",
       "    }\n",
       "\n",
       "    .dataframe thead th {\n",
       "        text-align: right;\n",
       "    }\n",
       "</style>\n",
       "<table border=\"1\" class=\"dataframe\">\n",
       "  <thead>\n",
       "    <tr style=\"text-align: right;\">\n",
       "      <th></th>\n",
       "      <th>feature_1</th>\n",
       "      <th>feature_2</th>\n",
       "      <th>feature_3</th>\n",
       "    </tr>\n",
       "  </thead>\n",
       "  <tbody>\n",
       "    <tr>\n",
       "      <th>new_obj1</th>\n",
       "      <td>0.588932</td>\n",
       "      <td>0.050253</td>\n",
       "      <td>0.133301</td>\n",
       "    </tr>\n",
       "    <tr>\n",
       "      <th>new_obj2</th>\n",
       "      <td>0.063662</td>\n",
       "      <td>0.704194</td>\n",
       "      <td>0.783203</td>\n",
       "    </tr>\n",
       "    <tr>\n",
       "      <th>new_obj3</th>\n",
       "      <td>0.049371</td>\n",
       "      <td>0.938659</td>\n",
       "      <td>0.868206</td>\n",
       "    </tr>\n",
       "    <tr>\n",
       "      <th>new_obj4</th>\n",
       "      <td>0.170535</td>\n",
       "      <td>0.084886</td>\n",
       "      <td>0.365416</td>\n",
       "    </tr>\n",
       "  </tbody>\n",
       "</table>\n",
       "</div>"
      ],
      "text/plain": [
       "          feature_1  feature_2  feature_3\n",
       "new_obj1   0.588932   0.050253   0.133301\n",
       "new_obj2   0.063662   0.704194   0.783203\n",
       "new_obj3   0.049371   0.938659   0.868206\n",
       "new_obj4   0.170535   0.084886   0.365416"
      ]
     },
     "execution_count": 30,
     "metadata": {},
     "output_type": "execute_result"
    }
   ],
   "source": [
    "df.loc['new_obj1':'new_obj4', 'feature_1':'feature_3']"
   ]
  },
  {
   "cell_type": "code",
   "execution_count": 31,
   "metadata": {
    "ExecuteTime": {
     "end_time": "2019-12-11T16:29:24.729616Z",
     "start_time": "2019-12-11T16:29:24.716650Z"
    }
   },
   "outputs": [
    {
     "data": {
      "text/html": [
       "<div>\n",
       "<style scoped>\n",
       "    .dataframe tbody tr th:only-of-type {\n",
       "        vertical-align: middle;\n",
       "    }\n",
       "\n",
       "    .dataframe tbody tr th {\n",
       "        vertical-align: top;\n",
       "    }\n",
       "\n",
       "    .dataframe thead th {\n",
       "        text-align: right;\n",
       "    }\n",
       "</style>\n",
       "<table border=\"1\" class=\"dataframe\">\n",
       "  <thead>\n",
       "    <tr style=\"text-align: right;\">\n",
       "      <th></th>\n",
       "      <th>feature_2</th>\n",
       "      <th>feature_3</th>\n",
       "      <th>target</th>\n",
       "    </tr>\n",
       "  </thead>\n",
       "  <tbody>\n",
       "    <tr>\n",
       "      <th>new_obj1</th>\n",
       "      <td>0.050253</td>\n",
       "      <td>0.133301</td>\n",
       "      <td>0.881306</td>\n",
       "    </tr>\n",
       "    <tr>\n",
       "      <th>new_obj2</th>\n",
       "      <td>0.704194</td>\n",
       "      <td>0.783203</td>\n",
       "      <td>1.888563</td>\n",
       "    </tr>\n",
       "    <tr>\n",
       "      <th>new_obj3</th>\n",
       "      <td>0.938659</td>\n",
       "      <td>0.868206</td>\n",
       "      <td>1.270604</td>\n",
       "    </tr>\n",
       "    <tr>\n",
       "      <th>new_obj4</th>\n",
       "      <td>0.084886</td>\n",
       "      <td>0.365416</td>\n",
       "      <td>0.398085</td>\n",
       "    </tr>\n",
       "  </tbody>\n",
       "</table>\n",
       "</div>"
      ],
      "text/plain": [
       "          feature_2  feature_3    target\n",
       "new_obj1   0.050253   0.133301  0.881306\n",
       "new_obj2   0.704194   0.783203  1.888563\n",
       "new_obj3   0.938659   0.868206  1.270604\n",
       "new_obj4   0.084886   0.365416  0.398085"
      ]
     },
     "execution_count": 31,
     "metadata": {},
     "output_type": "execute_result"
    }
   ],
   "source": [
    "df.loc[:'new_obj4', 'feature_2':]"
   ]
  },
  {
   "cell_type": "code",
   "execution_count": 32,
   "metadata": {
    "ExecuteTime": {
     "end_time": "2019-12-11T16:29:24.745573Z",
     "start_time": "2019-12-11T16:29:24.732609Z"
    }
   },
   "outputs": [
    {
     "data": {
      "text/html": [
       "<div>\n",
       "<style scoped>\n",
       "    .dataframe tbody tr th:only-of-type {\n",
       "        vertical-align: middle;\n",
       "    }\n",
       "\n",
       "    .dataframe tbody tr th {\n",
       "        vertical-align: top;\n",
       "    }\n",
       "\n",
       "    .dataframe thead th {\n",
       "        text-align: right;\n",
       "    }\n",
       "</style>\n",
       "<table border=\"1\" class=\"dataframe\">\n",
       "  <thead>\n",
       "    <tr style=\"text-align: right;\">\n",
       "      <th></th>\n",
       "      <th>feature_3</th>\n",
       "      <th>target</th>\n",
       "    </tr>\n",
       "  </thead>\n",
       "  <tbody>\n",
       "    <tr>\n",
       "      <th>new_obj4</th>\n",
       "      <td>0.365416</td>\n",
       "      <td>0.398085</td>\n",
       "    </tr>\n",
       "    <tr>\n",
       "      <th>new_obj5</th>\n",
       "      <td>0.459796</td>\n",
       "      <td>0.747079</td>\n",
       "    </tr>\n",
       "    <tr>\n",
       "      <th>new_obj6</th>\n",
       "      <td>0.033137</td>\n",
       "      <td>0.932812</td>\n",
       "    </tr>\n",
       "    <tr>\n",
       "      <th>new_obj7</th>\n",
       "      <td>0.060778</td>\n",
       "      <td>0.756462</td>\n",
       "    </tr>\n",
       "    <tr>\n",
       "      <th>new_obj8</th>\n",
       "      <td>0.727563</td>\n",
       "      <td>2.083161</td>\n",
       "    </tr>\n",
       "  </tbody>\n",
       "</table>\n",
       "</div>"
      ],
      "text/plain": [
       "          feature_3    target\n",
       "new_obj4   0.365416  0.398085\n",
       "new_obj5   0.459796  0.747079\n",
       "new_obj6   0.033137  0.932812\n",
       "new_obj7   0.060778  0.756462\n",
       "new_obj8   0.727563  2.083161"
      ]
     },
     "execution_count": 32,
     "metadata": {},
     "output_type": "execute_result"
    }
   ],
   "source": [
    "df.iloc[3:8, 2:]"
   ]
  },
  {
   "cell_type": "code",
   "execution_count": 33,
   "metadata": {
    "ExecuteTime": {
     "end_time": "2019-12-11T16:29:24.764523Z",
     "start_time": "2019-12-11T16:29:24.748564Z"
    }
   },
   "outputs": [
    {
     "data": {
      "text/html": [
       "<div>\n",
       "<style scoped>\n",
       "    .dataframe tbody tr th:only-of-type {\n",
       "        vertical-align: middle;\n",
       "    }\n",
       "\n",
       "    .dataframe tbody tr th {\n",
       "        vertical-align: top;\n",
       "    }\n",
       "\n",
       "    .dataframe thead th {\n",
       "        text-align: right;\n",
       "    }\n",
       "</style>\n",
       "<table border=\"1\" class=\"dataframe\">\n",
       "  <thead>\n",
       "    <tr style=\"text-align: right;\">\n",
       "      <th></th>\n",
       "      <th>feature_1</th>\n",
       "      <th>feature_2</th>\n",
       "      <th>feature_3</th>\n",
       "      <th>target</th>\n",
       "    </tr>\n",
       "  </thead>\n",
       "  <tbody>\n",
       "    <tr>\n",
       "      <th>new_obj1</th>\n",
       "      <td>-1.000000</td>\n",
       "      <td>0.050253</td>\n",
       "      <td>0.133301</td>\n",
       "      <td>0.881306</td>\n",
       "    </tr>\n",
       "    <tr>\n",
       "      <th>new_obj2</th>\n",
       "      <td>0.063662</td>\n",
       "      <td>0.704194</td>\n",
       "      <td>0.783203</td>\n",
       "      <td>1.888563</td>\n",
       "    </tr>\n",
       "    <tr>\n",
       "      <th>new_obj3</th>\n",
       "      <td>0.049371</td>\n",
       "      <td>0.938659</td>\n",
       "      <td>0.868206</td>\n",
       "      <td>1.270604</td>\n",
       "    </tr>\n",
       "    <tr>\n",
       "      <th>new_obj4</th>\n",
       "      <td>0.170535</td>\n",
       "      <td>0.084886</td>\n",
       "      <td>0.365416</td>\n",
       "      <td>0.398085</td>\n",
       "    </tr>\n",
       "    <tr>\n",
       "      <th>new_obj5</th>\n",
       "      <td>0.153400</td>\n",
       "      <td>0.311474</td>\n",
       "      <td>0.459796</td>\n",
       "      <td>0.747079</td>\n",
       "    </tr>\n",
       "    <tr>\n",
       "      <th>new_obj6</th>\n",
       "      <td>0.330433</td>\n",
       "      <td>0.575995</td>\n",
       "      <td>0.033137</td>\n",
       "      <td>0.932812</td>\n",
       "    </tr>\n",
       "    <tr>\n",
       "      <th>new_obj7</th>\n",
       "      <td>0.655147</td>\n",
       "      <td>0.006569</td>\n",
       "      <td>0.060778</td>\n",
       "      <td>0.756462</td>\n",
       "    </tr>\n",
       "    <tr>\n",
       "      <th>new_obj8</th>\n",
       "      <td>0.250441</td>\n",
       "      <td>0.968679</td>\n",
       "      <td>0.727563</td>\n",
       "      <td>2.083161</td>\n",
       "    </tr>\n",
       "    <tr>\n",
       "      <th>new_obj9</th>\n",
       "      <td>0.952466</td>\n",
       "      <td>0.657370</td>\n",
       "      <td>0.544203</td>\n",
       "      <td>2.306616</td>\n",
       "    </tr>\n",
       "    <tr>\n",
       "      <th>new_obj10</th>\n",
       "      <td>0.141845</td>\n",
       "      <td>0.817851</td>\n",
       "      <td>0.128673</td>\n",
       "      <td>1.199647</td>\n",
       "    </tr>\n",
       "  </tbody>\n",
       "</table>\n",
       "</div>"
      ],
      "text/plain": [
       "           feature_1  feature_2  feature_3    target\n",
       "new_obj1   -1.000000   0.050253   0.133301  0.881306\n",
       "new_obj2    0.063662   0.704194   0.783203  1.888563\n",
       "new_obj3    0.049371   0.938659   0.868206  1.270604\n",
       "new_obj4    0.170535   0.084886   0.365416  0.398085\n",
       "new_obj5    0.153400   0.311474   0.459796  0.747079\n",
       "new_obj6    0.330433   0.575995   0.033137  0.932812\n",
       "new_obj7    0.655147   0.006569   0.060778  0.756462\n",
       "new_obj8    0.250441   0.968679   0.727563  2.083161\n",
       "new_obj9    0.952466   0.657370   0.544203  2.306616\n",
       "new_obj10   0.141845   0.817851   0.128673  1.199647"
      ]
     },
     "execution_count": 33,
     "metadata": {},
     "output_type": "execute_result"
    }
   ],
   "source": [
    "df.iloc[0, 0] = -1\n",
    "df"
   ]
  },
  {
   "cell_type": "code",
   "execution_count": 34,
   "metadata": {
    "ExecuteTime": {
     "end_time": "2019-12-11T16:29:24.782474Z",
     "start_time": "2019-12-11T16:29:24.766517Z"
    }
   },
   "outputs": [
    {
     "data": {
      "text/html": [
       "<div>\n",
       "<style scoped>\n",
       "    .dataframe tbody tr th:only-of-type {\n",
       "        vertical-align: middle;\n",
       "    }\n",
       "\n",
       "    .dataframe tbody tr th {\n",
       "        vertical-align: top;\n",
       "    }\n",
       "\n",
       "    .dataframe thead th {\n",
       "        text-align: right;\n",
       "    }\n",
       "</style>\n",
       "<table border=\"1\" class=\"dataframe\">\n",
       "  <thead>\n",
       "    <tr style=\"text-align: right;\">\n",
       "      <th></th>\n",
       "      <th>feature_1</th>\n",
       "      <th>feature_2</th>\n",
       "      <th>feature_3</th>\n",
       "      <th>target</th>\n",
       "    </tr>\n",
       "  </thead>\n",
       "  <tbody>\n",
       "    <tr>\n",
       "      <th>new_obj1</th>\n",
       "      <td>-1.000000</td>\n",
       "      <td>0.050253</td>\n",
       "      <td>0.133301</td>\n",
       "      <td>0.881306</td>\n",
       "    </tr>\n",
       "    <tr>\n",
       "      <th>new_obj2</th>\n",
       "      <td>0.063662</td>\n",
       "      <td>0.704194</td>\n",
       "      <td>0.783203</td>\n",
       "      <td>1.888563</td>\n",
       "    </tr>\n",
       "    <tr>\n",
       "      <th>new_obj3</th>\n",
       "      <td>0.049371</td>\n",
       "      <td>0.938659</td>\n",
       "      <td>0.868206</td>\n",
       "      <td>1.270604</td>\n",
       "    </tr>\n",
       "    <tr>\n",
       "      <th>new_obj4</th>\n",
       "      <td>0.170535</td>\n",
       "      <td>0.084886</td>\n",
       "      <td>0.365416</td>\n",
       "      <td>0.398085</td>\n",
       "    </tr>\n",
       "    <tr>\n",
       "      <th>new_obj5</th>\n",
       "      <td>0.153400</td>\n",
       "      <td>0.311474</td>\n",
       "      <td>0.459796</td>\n",
       "      <td>0.747079</td>\n",
       "    </tr>\n",
       "    <tr>\n",
       "      <th>new_obj6</th>\n",
       "      <td>0.330433</td>\n",
       "      <td>0.000000</td>\n",
       "      <td>0.033137</td>\n",
       "      <td>0.932812</td>\n",
       "    </tr>\n",
       "    <tr>\n",
       "      <th>new_obj7</th>\n",
       "      <td>0.655147</td>\n",
       "      <td>0.000000</td>\n",
       "      <td>0.060778</td>\n",
       "      <td>0.756462</td>\n",
       "    </tr>\n",
       "    <tr>\n",
       "      <th>new_obj8</th>\n",
       "      <td>0.250441</td>\n",
       "      <td>0.000000</td>\n",
       "      <td>0.727563</td>\n",
       "      <td>2.083161</td>\n",
       "    </tr>\n",
       "    <tr>\n",
       "      <th>new_obj9</th>\n",
       "      <td>0.952466</td>\n",
       "      <td>0.000000</td>\n",
       "      <td>0.544203</td>\n",
       "      <td>2.306616</td>\n",
       "    </tr>\n",
       "    <tr>\n",
       "      <th>new_obj10</th>\n",
       "      <td>0.141845</td>\n",
       "      <td>0.817851</td>\n",
       "      <td>0.128673</td>\n",
       "      <td>1.199647</td>\n",
       "    </tr>\n",
       "  </tbody>\n",
       "</table>\n",
       "</div>"
      ],
      "text/plain": [
       "           feature_1  feature_2  feature_3    target\n",
       "new_obj1   -1.000000   0.050253   0.133301  0.881306\n",
       "new_obj2    0.063662   0.704194   0.783203  1.888563\n",
       "new_obj3    0.049371   0.938659   0.868206  1.270604\n",
       "new_obj4    0.170535   0.084886   0.365416  0.398085\n",
       "new_obj5    0.153400   0.311474   0.459796  0.747079\n",
       "new_obj6    0.330433   0.000000   0.033137  0.932812\n",
       "new_obj7    0.655147   0.000000   0.060778  0.756462\n",
       "new_obj8    0.250441   0.000000   0.727563  2.083161\n",
       "new_obj9    0.952466   0.000000   0.544203  2.306616\n",
       "new_obj10   0.141845   0.817851   0.128673  1.199647"
      ]
     },
     "execution_count": 34,
     "metadata": {},
     "output_type": "execute_result"
    }
   ],
   "source": [
    "df.loc['new_obj6':'new_obj9', 'feature_2'] = 0\n",
    "df"
   ]
  },
  {
   "cell_type": "code",
   "execution_count": 35,
   "metadata": {
    "ExecuteTime": {
     "end_time": "2019-12-11T16:29:24.806411Z",
     "start_time": "2019-12-11T16:29:24.785467Z"
    }
   },
   "outputs": [
    {
     "data": {
      "text/html": [
       "<div>\n",
       "<style scoped>\n",
       "    .dataframe tbody tr th:only-of-type {\n",
       "        vertical-align: middle;\n",
       "    }\n",
       "\n",
       "    .dataframe tbody tr th {\n",
       "        vertical-align: top;\n",
       "    }\n",
       "\n",
       "    .dataframe thead th {\n",
       "        text-align: right;\n",
       "    }\n",
       "</style>\n",
       "<table border=\"1\" class=\"dataframe\">\n",
       "  <thead>\n",
       "    <tr style=\"text-align: right;\">\n",
       "      <th></th>\n",
       "      <th>feature_1</th>\n",
       "      <th>feature_2</th>\n",
       "      <th>feature_3</th>\n",
       "      <th>target</th>\n",
       "    </tr>\n",
       "  </thead>\n",
       "  <tbody>\n",
       "    <tr>\n",
       "      <th>new_obj1</th>\n",
       "      <td>-10.000000</td>\n",
       "      <td>0.050253</td>\n",
       "      <td>0.133301</td>\n",
       "      <td>0.881306</td>\n",
       "    </tr>\n",
       "    <tr>\n",
       "      <th>new_obj2</th>\n",
       "      <td>0.063662</td>\n",
       "      <td>0.704194</td>\n",
       "      <td>0.783203</td>\n",
       "      <td>1.888563</td>\n",
       "    </tr>\n",
       "    <tr>\n",
       "      <th>new_obj3</th>\n",
       "      <td>0.049371</td>\n",
       "      <td>0.938659</td>\n",
       "      <td>0.868206</td>\n",
       "      <td>1.270604</td>\n",
       "    </tr>\n",
       "    <tr>\n",
       "      <th>new_obj4</th>\n",
       "      <td>0.170535</td>\n",
       "      <td>0.084886</td>\n",
       "      <td>0.365416</td>\n",
       "      <td>0.398085</td>\n",
       "    </tr>\n",
       "    <tr>\n",
       "      <th>new_obj5</th>\n",
       "      <td>0.153400</td>\n",
       "      <td>0.311474</td>\n",
       "      <td>0.459796</td>\n",
       "      <td>0.747079</td>\n",
       "    </tr>\n",
       "    <tr>\n",
       "      <th>new_obj6</th>\n",
       "      <td>0.330433</td>\n",
       "      <td>0.000000</td>\n",
       "      <td>0.033137</td>\n",
       "      <td>0.932812</td>\n",
       "    </tr>\n",
       "    <tr>\n",
       "      <th>new_obj7</th>\n",
       "      <td>0.655147</td>\n",
       "      <td>0.000000</td>\n",
       "      <td>0.060778</td>\n",
       "      <td>0.756462</td>\n",
       "    </tr>\n",
       "    <tr>\n",
       "      <th>new_obj8</th>\n",
       "      <td>0.250441</td>\n",
       "      <td>0.000000</td>\n",
       "      <td>0.727563</td>\n",
       "      <td>2.083161</td>\n",
       "    </tr>\n",
       "    <tr>\n",
       "      <th>new_obj9</th>\n",
       "      <td>0.952466</td>\n",
       "      <td>0.000000</td>\n",
       "      <td>0.544203</td>\n",
       "      <td>2.306616</td>\n",
       "    </tr>\n",
       "    <tr>\n",
       "      <th>new_obj10</th>\n",
       "      <td>0.141845</td>\n",
       "      <td>0.817851</td>\n",
       "      <td>0.128673</td>\n",
       "      <td>1.199647</td>\n",
       "    </tr>\n",
       "  </tbody>\n",
       "</table>\n",
       "</div>"
      ],
      "text/plain": [
       "           feature_1  feature_2  feature_3    target\n",
       "new_obj1  -10.000000   0.050253   0.133301  0.881306\n",
       "new_obj2    0.063662   0.704194   0.783203  1.888563\n",
       "new_obj3    0.049371   0.938659   0.868206  1.270604\n",
       "new_obj4    0.170535   0.084886   0.365416  0.398085\n",
       "new_obj5    0.153400   0.311474   0.459796  0.747079\n",
       "new_obj6    0.330433   0.000000   0.033137  0.932812\n",
       "new_obj7    0.655147   0.000000   0.060778  0.756462\n",
       "new_obj8    0.250441   0.000000   0.727563  2.083161\n",
       "new_obj9    0.952466   0.000000   0.544203  2.306616\n",
       "new_obj10   0.141845   0.817851   0.128673  1.199647"
      ]
     },
     "execution_count": 35,
     "metadata": {},
     "output_type": "execute_result"
    }
   ],
   "source": [
    "df.values[0, 0] = -10\n",
    "df"
   ]
  },
  {
   "cell_type": "code",
   "execution_count": 36,
   "metadata": {
    "ExecuteTime": {
     "end_time": "2019-12-11T16:29:24.829350Z",
     "start_time": "2019-12-11T16:29:24.809404Z"
    }
   },
   "outputs": [
    {
     "data": {
      "text/html": [
       "<div>\n",
       "<style scoped>\n",
       "    .dataframe tbody tr th:only-of-type {\n",
       "        vertical-align: middle;\n",
       "    }\n",
       "\n",
       "    .dataframe tbody tr th {\n",
       "        vertical-align: top;\n",
       "    }\n",
       "\n",
       "    .dataframe thead th {\n",
       "        text-align: right;\n",
       "    }\n",
       "</style>\n",
       "<table border=\"1\" class=\"dataframe\">\n",
       "  <thead>\n",
       "    <tr style=\"text-align: right;\">\n",
       "      <th></th>\n",
       "      <th>feature_1</th>\n",
       "      <th>feature_2</th>\n",
       "      <th>feature_3</th>\n",
       "      <th>target</th>\n",
       "    </tr>\n",
       "  </thead>\n",
       "  <tbody>\n",
       "    <tr>\n",
       "      <th>new_obj1</th>\n",
       "      <td>-5.000000</td>\n",
       "      <td>0.050253</td>\n",
       "      <td>0.133301</td>\n",
       "      <td>0.881306</td>\n",
       "    </tr>\n",
       "    <tr>\n",
       "      <th>new_obj2</th>\n",
       "      <td>0.063662</td>\n",
       "      <td>0.704194</td>\n",
       "      <td>0.783203</td>\n",
       "      <td>1.888563</td>\n",
       "    </tr>\n",
       "    <tr>\n",
       "      <th>new_obj3</th>\n",
       "      <td>0.049371</td>\n",
       "      <td>0.938659</td>\n",
       "      <td>0.868206</td>\n",
       "      <td>1.270604</td>\n",
       "    </tr>\n",
       "    <tr>\n",
       "      <th>new_obj4</th>\n",
       "      <td>0.170535</td>\n",
       "      <td>0.084886</td>\n",
       "      <td>0.365416</td>\n",
       "      <td>0.398085</td>\n",
       "    </tr>\n",
       "    <tr>\n",
       "      <th>new_obj5</th>\n",
       "      <td>0.153400</td>\n",
       "      <td>0.311474</td>\n",
       "      <td>0.459796</td>\n",
       "      <td>0.747079</td>\n",
       "    </tr>\n",
       "    <tr>\n",
       "      <th>new_obj6</th>\n",
       "      <td>0.330433</td>\n",
       "      <td>0.000000</td>\n",
       "      <td>0.033137</td>\n",
       "      <td>0.932812</td>\n",
       "    </tr>\n",
       "    <tr>\n",
       "      <th>new_obj7</th>\n",
       "      <td>0.655147</td>\n",
       "      <td>0.000000</td>\n",
       "      <td>0.060778</td>\n",
       "      <td>0.756462</td>\n",
       "    </tr>\n",
       "    <tr>\n",
       "      <th>new_obj8</th>\n",
       "      <td>0.250441</td>\n",
       "      <td>0.000000</td>\n",
       "      <td>0.727563</td>\n",
       "      <td>2.083161</td>\n",
       "    </tr>\n",
       "    <tr>\n",
       "      <th>new_obj9</th>\n",
       "      <td>0.952466</td>\n",
       "      <td>0.000000</td>\n",
       "      <td>0.544203</td>\n",
       "      <td>2.306616</td>\n",
       "    </tr>\n",
       "    <tr>\n",
       "      <th>new_obj10</th>\n",
       "      <td>0.141845</td>\n",
       "      <td>0.817851</td>\n",
       "      <td>0.128673</td>\n",
       "      <td>1.199647</td>\n",
       "    </tr>\n",
       "  </tbody>\n",
       "</table>\n",
       "</div>"
      ],
      "text/plain": [
       "           feature_1  feature_2  feature_3    target\n",
       "new_obj1   -5.000000   0.050253   0.133301  0.881306\n",
       "new_obj2    0.063662   0.704194   0.783203  1.888563\n",
       "new_obj3    0.049371   0.938659   0.868206  1.270604\n",
       "new_obj4    0.170535   0.084886   0.365416  0.398085\n",
       "new_obj5    0.153400   0.311474   0.459796  0.747079\n",
       "new_obj6    0.330433   0.000000   0.033137  0.932812\n",
       "new_obj7    0.655147   0.000000   0.060778  0.756462\n",
       "new_obj8    0.250441   0.000000   0.727563  2.083161\n",
       "new_obj9    0.952466   0.000000   0.544203  2.306616\n",
       "new_obj10   0.141845   0.817851   0.128673  1.199647"
      ]
     },
     "execution_count": 36,
     "metadata": {},
     "output_type": "execute_result"
    }
   ],
   "source": [
    "data[0, 0] = -5\n",
    "df"
   ]
  },
  {
   "cell_type": "code",
   "execution_count": 37,
   "metadata": {
    "ExecuteTime": {
     "end_time": "2019-12-11T16:29:24.842316Z",
     "start_time": "2019-12-11T16:29:24.832342Z"
    }
   },
   "outputs": [
    {
     "data": {
      "text/plain": [
       "['m', 'w', 'w', 'm', 'm', 'w', 'm', 'm', 'w', 'm']"
      ]
     },
     "execution_count": 37,
     "metadata": {},
     "output_type": "execute_result"
    }
   ],
   "source": [
    "sex = ['m' if x == 1 else 'w' for x in np.random.randint(2, size = 10)]\n",
    "sex"
   ]
  },
  {
   "cell_type": "code",
   "execution_count": 38,
   "metadata": {
    "ExecuteTime": {
     "end_time": "2019-12-11T16:29:24.865254Z",
     "start_time": "2019-12-11T16:29:24.846304Z"
    }
   },
   "outputs": [
    {
     "data": {
      "text/html": [
       "<div>\n",
       "<style scoped>\n",
       "    .dataframe tbody tr th:only-of-type {\n",
       "        vertical-align: middle;\n",
       "    }\n",
       "\n",
       "    .dataframe tbody tr th {\n",
       "        vertical-align: top;\n",
       "    }\n",
       "\n",
       "    .dataframe thead th {\n",
       "        text-align: right;\n",
       "    }\n",
       "</style>\n",
       "<table border=\"1\" class=\"dataframe\">\n",
       "  <thead>\n",
       "    <tr style=\"text-align: right;\">\n",
       "      <th></th>\n",
       "      <th>feature_1</th>\n",
       "      <th>feature_2</th>\n",
       "      <th>feature_3</th>\n",
       "      <th>target</th>\n",
       "      <th>sex</th>\n",
       "    </tr>\n",
       "  </thead>\n",
       "  <tbody>\n",
       "    <tr>\n",
       "      <th>new_obj1</th>\n",
       "      <td>-5.000000</td>\n",
       "      <td>0.050253</td>\n",
       "      <td>0.133301</td>\n",
       "      <td>0.881306</td>\n",
       "      <td>m</td>\n",
       "    </tr>\n",
       "    <tr>\n",
       "      <th>new_obj2</th>\n",
       "      <td>0.063662</td>\n",
       "      <td>0.704194</td>\n",
       "      <td>0.783203</td>\n",
       "      <td>1.888563</td>\n",
       "      <td>w</td>\n",
       "    </tr>\n",
       "    <tr>\n",
       "      <th>new_obj3</th>\n",
       "      <td>0.049371</td>\n",
       "      <td>0.938659</td>\n",
       "      <td>0.868206</td>\n",
       "      <td>1.270604</td>\n",
       "      <td>w</td>\n",
       "    </tr>\n",
       "    <tr>\n",
       "      <th>new_obj4</th>\n",
       "      <td>0.170535</td>\n",
       "      <td>0.084886</td>\n",
       "      <td>0.365416</td>\n",
       "      <td>0.398085</td>\n",
       "      <td>m</td>\n",
       "    </tr>\n",
       "    <tr>\n",
       "      <th>new_obj5</th>\n",
       "      <td>0.153400</td>\n",
       "      <td>0.311474</td>\n",
       "      <td>0.459796</td>\n",
       "      <td>0.747079</td>\n",
       "      <td>m</td>\n",
       "    </tr>\n",
       "    <tr>\n",
       "      <th>new_obj6</th>\n",
       "      <td>0.330433</td>\n",
       "      <td>0.000000</td>\n",
       "      <td>0.033137</td>\n",
       "      <td>0.932812</td>\n",
       "      <td>w</td>\n",
       "    </tr>\n",
       "    <tr>\n",
       "      <th>new_obj7</th>\n",
       "      <td>0.655147</td>\n",
       "      <td>0.000000</td>\n",
       "      <td>0.060778</td>\n",
       "      <td>0.756462</td>\n",
       "      <td>m</td>\n",
       "    </tr>\n",
       "    <tr>\n",
       "      <th>new_obj8</th>\n",
       "      <td>0.250441</td>\n",
       "      <td>0.000000</td>\n",
       "      <td>0.727563</td>\n",
       "      <td>2.083161</td>\n",
       "      <td>m</td>\n",
       "    </tr>\n",
       "    <tr>\n",
       "      <th>new_obj9</th>\n",
       "      <td>0.952466</td>\n",
       "      <td>0.000000</td>\n",
       "      <td>0.544203</td>\n",
       "      <td>2.306616</td>\n",
       "      <td>w</td>\n",
       "    </tr>\n",
       "    <tr>\n",
       "      <th>new_obj10</th>\n",
       "      <td>0.141845</td>\n",
       "      <td>0.817851</td>\n",
       "      <td>0.128673</td>\n",
       "      <td>1.199647</td>\n",
       "      <td>m</td>\n",
       "    </tr>\n",
       "  </tbody>\n",
       "</table>\n",
       "</div>"
      ],
      "text/plain": [
       "           feature_1  feature_2  feature_3    target sex\n",
       "new_obj1   -5.000000   0.050253   0.133301  0.881306   m\n",
       "new_obj2    0.063662   0.704194   0.783203  1.888563   w\n",
       "new_obj3    0.049371   0.938659   0.868206  1.270604   w\n",
       "new_obj4    0.170535   0.084886   0.365416  0.398085   m\n",
       "new_obj5    0.153400   0.311474   0.459796  0.747079   m\n",
       "new_obj6    0.330433   0.000000   0.033137  0.932812   w\n",
       "new_obj7    0.655147   0.000000   0.060778  0.756462   m\n",
       "new_obj8    0.250441   0.000000   0.727563  2.083161   m\n",
       "new_obj9    0.952466   0.000000   0.544203  2.306616   w\n",
       "new_obj10   0.141845   0.817851   0.128673  1.199647   m"
      ]
     },
     "execution_count": 38,
     "metadata": {},
     "output_type": "execute_result"
    }
   ],
   "source": [
    "df['sex'] = sex\n",
    "df"
   ]
  },
  {
   "cell_type": "code",
   "execution_count": 39,
   "metadata": {
    "ExecuteTime": {
     "end_time": "2019-12-11T16:29:24.875226Z",
     "start_time": "2019-12-11T16:29:24.868245Z"
    }
   },
   "outputs": [
    {
     "data": {
      "text/plain": [
       "array([[-5.0, 0.050252553912239484, 0.1333008813076657,\n",
       "        0.8813058700753241, 'm'],\n",
       "       [0.06366221467718092, 0.7041935695230384, 0.7832030644130974,\n",
       "        1.8885630421525526, 'w'],\n",
       "       [0.0493714261279985, 0.9386593169753896, 0.8682057797421966,\n",
       "        1.2706044839067432, 'w'],\n",
       "       [0.17053530226973923, 0.08488634071415946, 0.3654157911980266,\n",
       "        0.3980853379132627, 'm'],\n",
       "       [0.15339953986150745, 0.3114743960441173, 0.4597956638170776,\n",
       "        0.7470793633805018, 'm'],\n",
       "       [0.3304331565246089, 0.0, 0.03313728254454085, 0.9328118021228518,\n",
       "        'w'],\n",
       "       [0.6551466611262504, 0.0, 0.06077794596082298, 0.756461736792841,\n",
       "        'm'],\n",
       "       [0.250440930499612, 0.0, 0.727562892572187, 2.083160599491991,\n",
       "        'm'],\n",
       "       [0.9524659774201537, 0.0, 0.5442026759007849, 2.3066155128530434,\n",
       "        'w'],\n",
       "       [0.14184457133163464, 0.8178508491625843, 0.12867269884199783,\n",
       "        1.1996465620951917, 'm']], dtype=object)"
      ]
     },
     "execution_count": 39,
     "metadata": {},
     "output_type": "execute_result"
    }
   ],
   "source": [
    "df.values"
   ]
  },
  {
   "cell_type": "code",
   "execution_count": 40,
   "metadata": {
    "ExecuteTime": {
     "end_time": "2019-12-11T16:29:24.885199Z",
     "start_time": "2019-12-11T16:29:24.878218Z"
    }
   },
   "outputs": [
    {
     "data": {
      "text/plain": [
       "new_obj1     m\n",
       "new_obj2     w\n",
       "new_obj3     w\n",
       "new_obj4     m\n",
       "new_obj5     m\n",
       "new_obj6     w\n",
       "new_obj7     m\n",
       "new_obj8     m\n",
       "new_obj9     w\n",
       "new_obj10    m\n",
       "Name: sex, dtype: object"
      ]
     },
     "execution_count": 40,
     "metadata": {},
     "output_type": "execute_result"
    }
   ],
   "source": [
    "df.sex"
   ]
  },
  {
   "cell_type": "code",
   "execution_count": 41,
   "metadata": {
    "ExecuteTime": {
     "end_time": "2019-12-11T16:29:24.896169Z",
     "start_time": "2019-12-11T16:29:24.887195Z"
    }
   },
   "outputs": [
    {
     "data": {
      "text/plain": [
       "new_obj1      True\n",
       "new_obj2     False\n",
       "new_obj3     False\n",
       "new_obj4      True\n",
       "new_obj5      True\n",
       "new_obj6     False\n",
       "new_obj7      True\n",
       "new_obj8      True\n",
       "new_obj9     False\n",
       "new_obj10     True\n",
       "Name: sex, dtype: bool"
      ]
     },
     "execution_count": 41,
     "metadata": {},
     "output_type": "execute_result"
    }
   ],
   "source": [
    "df.sex == 'm'"
   ]
  },
  {
   "cell_type": "code",
   "execution_count": 42,
   "metadata": {
    "ExecuteTime": {
     "end_time": "2019-12-11T16:29:24.914122Z",
     "start_time": "2019-12-11T16:29:24.899162Z"
    }
   },
   "outputs": [
    {
     "data": {
      "text/html": [
       "<div>\n",
       "<style scoped>\n",
       "    .dataframe tbody tr th:only-of-type {\n",
       "        vertical-align: middle;\n",
       "    }\n",
       "\n",
       "    .dataframe tbody tr th {\n",
       "        vertical-align: top;\n",
       "    }\n",
       "\n",
       "    .dataframe thead th {\n",
       "        text-align: right;\n",
       "    }\n",
       "</style>\n",
       "<table border=\"1\" class=\"dataframe\">\n",
       "  <thead>\n",
       "    <tr style=\"text-align: right;\">\n",
       "      <th></th>\n",
       "      <th>feature_1</th>\n",
       "      <th>feature_2</th>\n",
       "      <th>feature_3</th>\n",
       "      <th>target</th>\n",
       "      <th>sex</th>\n",
       "    </tr>\n",
       "  </thead>\n",
       "  <tbody>\n",
       "    <tr>\n",
       "      <th>new_obj1</th>\n",
       "      <td>-5.000000</td>\n",
       "      <td>0.050253</td>\n",
       "      <td>0.133301</td>\n",
       "      <td>0.881306</td>\n",
       "      <td>m</td>\n",
       "    </tr>\n",
       "    <tr>\n",
       "      <th>new_obj4</th>\n",
       "      <td>0.170535</td>\n",
       "      <td>0.084886</td>\n",
       "      <td>0.365416</td>\n",
       "      <td>0.398085</td>\n",
       "      <td>m</td>\n",
       "    </tr>\n",
       "    <tr>\n",
       "      <th>new_obj5</th>\n",
       "      <td>0.153400</td>\n",
       "      <td>0.311474</td>\n",
       "      <td>0.459796</td>\n",
       "      <td>0.747079</td>\n",
       "      <td>m</td>\n",
       "    </tr>\n",
       "    <tr>\n",
       "      <th>new_obj7</th>\n",
       "      <td>0.655147</td>\n",
       "      <td>0.000000</td>\n",
       "      <td>0.060778</td>\n",
       "      <td>0.756462</td>\n",
       "      <td>m</td>\n",
       "    </tr>\n",
       "    <tr>\n",
       "      <th>new_obj8</th>\n",
       "      <td>0.250441</td>\n",
       "      <td>0.000000</td>\n",
       "      <td>0.727563</td>\n",
       "      <td>2.083161</td>\n",
       "      <td>m</td>\n",
       "    </tr>\n",
       "    <tr>\n",
       "      <th>new_obj10</th>\n",
       "      <td>0.141845</td>\n",
       "      <td>0.817851</td>\n",
       "      <td>0.128673</td>\n",
       "      <td>1.199647</td>\n",
       "      <td>m</td>\n",
       "    </tr>\n",
       "  </tbody>\n",
       "</table>\n",
       "</div>"
      ],
      "text/plain": [
       "           feature_1  feature_2  feature_3    target sex\n",
       "new_obj1   -5.000000   0.050253   0.133301  0.881306   m\n",
       "new_obj4    0.170535   0.084886   0.365416  0.398085   m\n",
       "new_obj5    0.153400   0.311474   0.459796  0.747079   m\n",
       "new_obj7    0.655147   0.000000   0.060778  0.756462   m\n",
       "new_obj8    0.250441   0.000000   0.727563  2.083161   m\n",
       "new_obj10   0.141845   0.817851   0.128673  1.199647   m"
      ]
     },
     "execution_count": 42,
     "metadata": {},
     "output_type": "execute_result"
    }
   ],
   "source": [
    "df[df.sex == 'm']"
   ]
  },
  {
   "cell_type": "code",
   "execution_count": 43,
   "metadata": {
    "ExecuteTime": {
     "end_time": "2019-12-11T16:29:24.931077Z",
     "start_time": "2019-12-11T16:29:24.916117Z"
    }
   },
   "outputs": [
    {
     "data": {
      "text/html": [
       "<div>\n",
       "<style scoped>\n",
       "    .dataframe tbody tr th:only-of-type {\n",
       "        vertical-align: middle;\n",
       "    }\n",
       "\n",
       "    .dataframe tbody tr th {\n",
       "        vertical-align: top;\n",
       "    }\n",
       "\n",
       "    .dataframe thead th {\n",
       "        text-align: right;\n",
       "    }\n",
       "</style>\n",
       "<table border=\"1\" class=\"dataframe\">\n",
       "  <thead>\n",
       "    <tr style=\"text-align: right;\">\n",
       "      <th></th>\n",
       "      <th>feature_1</th>\n",
       "      <th>feature_2</th>\n",
       "      <th>feature_3</th>\n",
       "      <th>target</th>\n",
       "      <th>sex</th>\n",
       "    </tr>\n",
       "  </thead>\n",
       "  <tbody>\n",
       "    <tr>\n",
       "      <th>new_obj8</th>\n",
       "      <td>0.250441</td>\n",
       "      <td>0.0</td>\n",
       "      <td>0.727563</td>\n",
       "      <td>2.083161</td>\n",
       "      <td>m</td>\n",
       "    </tr>\n",
       "  </tbody>\n",
       "</table>\n",
       "</div>"
      ],
      "text/plain": [
       "          feature_1  feature_2  feature_3    target sex\n",
       "new_obj8   0.250441        0.0   0.727563  2.083161   m"
      ]
     },
     "execution_count": 43,
     "metadata": {},
     "output_type": "execute_result"
    }
   ],
   "source": [
    "df[(df.sex == 'm') & (df.target > 2)]"
   ]
  },
  {
   "cell_type": "code",
   "execution_count": 44,
   "metadata": {
    "ExecuteTime": {
     "end_time": "2019-12-11T16:29:24.951023Z",
     "start_time": "2019-12-11T16:29:24.934069Z"
    }
   },
   "outputs": [
    {
     "data": {
      "text/html": [
       "<div>\n",
       "<style scoped>\n",
       "    .dataframe tbody tr th:only-of-type {\n",
       "        vertical-align: middle;\n",
       "    }\n",
       "\n",
       "    .dataframe tbody tr th {\n",
       "        vertical-align: top;\n",
       "    }\n",
       "\n",
       "    .dataframe thead th {\n",
       "        text-align: right;\n",
       "    }\n",
       "</style>\n",
       "<table border=\"1\" class=\"dataframe\">\n",
       "  <thead>\n",
       "    <tr style=\"text-align: right;\">\n",
       "      <th></th>\n",
       "      <th>feature_1</th>\n",
       "      <th>feature_2</th>\n",
       "      <th>feature_3</th>\n",
       "      <th>target</th>\n",
       "      <th>sex</th>\n",
       "    </tr>\n",
       "  </thead>\n",
       "  <tbody>\n",
       "    <tr>\n",
       "      <th>new_obj1</th>\n",
       "      <td>-5.000000</td>\n",
       "      <td>0.050253</td>\n",
       "      <td>0.133301</td>\n",
       "      <td>0.881306</td>\n",
       "      <td>m</td>\n",
       "    </tr>\n",
       "    <tr>\n",
       "      <th>new_obj4</th>\n",
       "      <td>0.170535</td>\n",
       "      <td>0.084886</td>\n",
       "      <td>0.365416</td>\n",
       "      <td>0.398085</td>\n",
       "      <td>m</td>\n",
       "    </tr>\n",
       "    <tr>\n",
       "      <th>new_obj5</th>\n",
       "      <td>0.153400</td>\n",
       "      <td>0.311474</td>\n",
       "      <td>0.459796</td>\n",
       "      <td>0.747079</td>\n",
       "      <td>m</td>\n",
       "    </tr>\n",
       "    <tr>\n",
       "      <th>new_obj7</th>\n",
       "      <td>0.655147</td>\n",
       "      <td>0.000000</td>\n",
       "      <td>0.060778</td>\n",
       "      <td>0.756462</td>\n",
       "      <td>m</td>\n",
       "    </tr>\n",
       "    <tr>\n",
       "      <th>new_obj8</th>\n",
       "      <td>0.250441</td>\n",
       "      <td>0.000000</td>\n",
       "      <td>0.727563</td>\n",
       "      <td>2.083161</td>\n",
       "      <td>m</td>\n",
       "    </tr>\n",
       "    <tr>\n",
       "      <th>new_obj9</th>\n",
       "      <td>0.952466</td>\n",
       "      <td>0.000000</td>\n",
       "      <td>0.544203</td>\n",
       "      <td>2.306616</td>\n",
       "      <td>w</td>\n",
       "    </tr>\n",
       "    <tr>\n",
       "      <th>new_obj10</th>\n",
       "      <td>0.141845</td>\n",
       "      <td>0.817851</td>\n",
       "      <td>0.128673</td>\n",
       "      <td>1.199647</td>\n",
       "      <td>m</td>\n",
       "    </tr>\n",
       "  </tbody>\n",
       "</table>\n",
       "</div>"
      ],
      "text/plain": [
       "           feature_1  feature_2  feature_3    target sex\n",
       "new_obj1   -5.000000   0.050253   0.133301  0.881306   m\n",
       "new_obj4    0.170535   0.084886   0.365416  0.398085   m\n",
       "new_obj5    0.153400   0.311474   0.459796  0.747079   m\n",
       "new_obj7    0.655147   0.000000   0.060778  0.756462   m\n",
       "new_obj8    0.250441   0.000000   0.727563  2.083161   m\n",
       "new_obj9    0.952466   0.000000   0.544203  2.306616   w\n",
       "new_obj10   0.141845   0.817851   0.128673  1.199647   m"
      ]
     },
     "execution_count": 44,
     "metadata": {},
     "output_type": "execute_result"
    }
   ],
   "source": [
    "df[(df.sex == 'm') | (df.target > 2)]"
   ]
  },
  {
   "cell_type": "code",
   "execution_count": 45,
   "metadata": {
    "ExecuteTime": {
     "end_time": "2019-12-11T16:29:24.971967Z",
     "start_time": "2019-12-11T16:29:24.954016Z"
    }
   },
   "outputs": [
    {
     "data": {
      "text/html": [
       "<div>\n",
       "<style scoped>\n",
       "    .dataframe tbody tr th:only-of-type {\n",
       "        vertical-align: middle;\n",
       "    }\n",
       "\n",
       "    .dataframe tbody tr th {\n",
       "        vertical-align: top;\n",
       "    }\n",
       "\n",
       "    .dataframe thead th {\n",
       "        text-align: right;\n",
       "    }\n",
       "</style>\n",
       "<table border=\"1\" class=\"dataframe\">\n",
       "  <thead>\n",
       "    <tr style=\"text-align: right;\">\n",
       "      <th></th>\n",
       "      <th>feature_1</th>\n",
       "      <th>feature_2</th>\n",
       "      <th>feature_3</th>\n",
       "      <th>target</th>\n",
       "      <th>sex</th>\n",
       "      <th>sum</th>\n",
       "    </tr>\n",
       "  </thead>\n",
       "  <tbody>\n",
       "    <tr>\n",
       "      <th>new_obj1</th>\n",
       "      <td>-5.000000</td>\n",
       "      <td>0.050253</td>\n",
       "      <td>0.133301</td>\n",
       "      <td>0.881306</td>\n",
       "      <td>m</td>\n",
       "      <td>-4.816447</td>\n",
       "    </tr>\n",
       "    <tr>\n",
       "      <th>new_obj2</th>\n",
       "      <td>0.063662</td>\n",
       "      <td>0.704194</td>\n",
       "      <td>0.783203</td>\n",
       "      <td>1.888563</td>\n",
       "      <td>w</td>\n",
       "      <td>1.551059</td>\n",
       "    </tr>\n",
       "    <tr>\n",
       "      <th>new_obj3</th>\n",
       "      <td>0.049371</td>\n",
       "      <td>0.938659</td>\n",
       "      <td>0.868206</td>\n",
       "      <td>1.270604</td>\n",
       "      <td>w</td>\n",
       "      <td>1.856237</td>\n",
       "    </tr>\n",
       "    <tr>\n",
       "      <th>new_obj4</th>\n",
       "      <td>0.170535</td>\n",
       "      <td>0.084886</td>\n",
       "      <td>0.365416</td>\n",
       "      <td>0.398085</td>\n",
       "      <td>m</td>\n",
       "      <td>0.620837</td>\n",
       "    </tr>\n",
       "    <tr>\n",
       "      <th>new_obj5</th>\n",
       "      <td>0.153400</td>\n",
       "      <td>0.311474</td>\n",
       "      <td>0.459796</td>\n",
       "      <td>0.747079</td>\n",
       "      <td>m</td>\n",
       "      <td>0.924670</td>\n",
       "    </tr>\n",
       "    <tr>\n",
       "      <th>new_obj6</th>\n",
       "      <td>0.330433</td>\n",
       "      <td>0.000000</td>\n",
       "      <td>0.033137</td>\n",
       "      <td>0.932812</td>\n",
       "      <td>w</td>\n",
       "      <td>0.363570</td>\n",
       "    </tr>\n",
       "    <tr>\n",
       "      <th>new_obj7</th>\n",
       "      <td>0.655147</td>\n",
       "      <td>0.000000</td>\n",
       "      <td>0.060778</td>\n",
       "      <td>0.756462</td>\n",
       "      <td>m</td>\n",
       "      <td>0.715925</td>\n",
       "    </tr>\n",
       "    <tr>\n",
       "      <th>new_obj8</th>\n",
       "      <td>0.250441</td>\n",
       "      <td>0.000000</td>\n",
       "      <td>0.727563</td>\n",
       "      <td>2.083161</td>\n",
       "      <td>m</td>\n",
       "      <td>0.978004</td>\n",
       "    </tr>\n",
       "    <tr>\n",
       "      <th>new_obj9</th>\n",
       "      <td>0.952466</td>\n",
       "      <td>0.000000</td>\n",
       "      <td>0.544203</td>\n",
       "      <td>2.306616</td>\n",
       "      <td>w</td>\n",
       "      <td>1.496669</td>\n",
       "    </tr>\n",
       "    <tr>\n",
       "      <th>new_obj10</th>\n",
       "      <td>0.141845</td>\n",
       "      <td>0.817851</td>\n",
       "      <td>0.128673</td>\n",
       "      <td>1.199647</td>\n",
       "      <td>m</td>\n",
       "      <td>1.088368</td>\n",
       "    </tr>\n",
       "  </tbody>\n",
       "</table>\n",
       "</div>"
      ],
      "text/plain": [
       "           feature_1  feature_2  feature_3    target sex       sum\n",
       "new_obj1   -5.000000   0.050253   0.133301  0.881306   m -4.816447\n",
       "new_obj2    0.063662   0.704194   0.783203  1.888563   w  1.551059\n",
       "new_obj3    0.049371   0.938659   0.868206  1.270604   w  1.856237\n",
       "new_obj4    0.170535   0.084886   0.365416  0.398085   m  0.620837\n",
       "new_obj5    0.153400   0.311474   0.459796  0.747079   m  0.924670\n",
       "new_obj6    0.330433   0.000000   0.033137  0.932812   w  0.363570\n",
       "new_obj7    0.655147   0.000000   0.060778  0.756462   m  0.715925\n",
       "new_obj8    0.250441   0.000000   0.727563  2.083161   m  0.978004\n",
       "new_obj9    0.952466   0.000000   0.544203  2.306616   w  1.496669\n",
       "new_obj10   0.141845   0.817851   0.128673  1.199647   m  1.088368"
      ]
     },
     "execution_count": 45,
     "metadata": {},
     "output_type": "execute_result"
    }
   ],
   "source": [
    "df['sum'] = df.iloc[:, :-2].sum(axis = 1)\n",
    "df"
   ]
  },
  {
   "cell_type": "code",
   "execution_count": 46,
   "metadata": {
    "ExecuteTime": {
     "end_time": "2019-12-11T16:29:24.992914Z",
     "start_time": "2019-12-11T16:29:24.974960Z"
    }
   },
   "outputs": [
    {
     "data": {
      "text/html": [
       "<div>\n",
       "<style scoped>\n",
       "    .dataframe tbody tr th:only-of-type {\n",
       "        vertical-align: middle;\n",
       "    }\n",
       "\n",
       "    .dataframe tbody tr th {\n",
       "        vertical-align: top;\n",
       "    }\n",
       "\n",
       "    .dataframe thead th {\n",
       "        text-align: right;\n",
       "    }\n",
       "</style>\n",
       "<table border=\"1\" class=\"dataframe\">\n",
       "  <thead>\n",
       "    <tr style=\"text-align: right;\">\n",
       "      <th></th>\n",
       "      <th>feature_1</th>\n",
       "      <th>feature_2</th>\n",
       "      <th>feature_3</th>\n",
       "      <th>target</th>\n",
       "      <th>sex</th>\n",
       "      <th>sum</th>\n",
       "    </tr>\n",
       "  </thead>\n",
       "  <tbody>\n",
       "    <tr>\n",
       "      <th>new_obj2</th>\n",
       "      <td>0.063662</td>\n",
       "      <td>0.704194</td>\n",
       "      <td>0.783203</td>\n",
       "      <td>1.888563</td>\n",
       "      <td>w</td>\n",
       "      <td>1.551059</td>\n",
       "    </tr>\n",
       "    <tr>\n",
       "      <th>new_obj3</th>\n",
       "      <td>0.049371</td>\n",
       "      <td>0.938659</td>\n",
       "      <td>0.868206</td>\n",
       "      <td>1.270604</td>\n",
       "      <td>w</td>\n",
       "      <td>1.856237</td>\n",
       "    </tr>\n",
       "    <tr>\n",
       "      <th>new_obj4</th>\n",
       "      <td>0.170535</td>\n",
       "      <td>0.084886</td>\n",
       "      <td>0.365416</td>\n",
       "      <td>0.398085</td>\n",
       "      <td>m</td>\n",
       "      <td>0.620837</td>\n",
       "    </tr>\n",
       "    <tr>\n",
       "      <th>new_obj5</th>\n",
       "      <td>0.153400</td>\n",
       "      <td>0.311474</td>\n",
       "      <td>0.459796</td>\n",
       "      <td>0.747079</td>\n",
       "      <td>m</td>\n",
       "      <td>0.924670</td>\n",
       "    </tr>\n",
       "    <tr>\n",
       "      <th>new_obj6</th>\n",
       "      <td>0.330433</td>\n",
       "      <td>0.000000</td>\n",
       "      <td>0.033137</td>\n",
       "      <td>0.932812</td>\n",
       "      <td>w</td>\n",
       "      <td>0.363570</td>\n",
       "    </tr>\n",
       "    <tr>\n",
       "      <th>new_obj7</th>\n",
       "      <td>0.655147</td>\n",
       "      <td>0.000000</td>\n",
       "      <td>0.060778</td>\n",
       "      <td>0.756462</td>\n",
       "      <td>m</td>\n",
       "      <td>0.715925</td>\n",
       "    </tr>\n",
       "    <tr>\n",
       "      <th>new_obj8</th>\n",
       "      <td>0.250441</td>\n",
       "      <td>0.000000</td>\n",
       "      <td>0.727563</td>\n",
       "      <td>2.083161</td>\n",
       "      <td>m</td>\n",
       "      <td>0.978004</td>\n",
       "    </tr>\n",
       "    <tr>\n",
       "      <th>new_obj9</th>\n",
       "      <td>0.952466</td>\n",
       "      <td>0.000000</td>\n",
       "      <td>0.544203</td>\n",
       "      <td>2.306616</td>\n",
       "      <td>w</td>\n",
       "      <td>1.496669</td>\n",
       "    </tr>\n",
       "    <tr>\n",
       "      <th>new_obj10</th>\n",
       "      <td>0.141845</td>\n",
       "      <td>0.817851</td>\n",
       "      <td>0.128673</td>\n",
       "      <td>1.199647</td>\n",
       "      <td>m</td>\n",
       "      <td>1.088368</td>\n",
       "    </tr>\n",
       "  </tbody>\n",
       "</table>\n",
       "</div>"
      ],
      "text/plain": [
       "           feature_1  feature_2  feature_3    target sex       sum\n",
       "new_obj2    0.063662   0.704194   0.783203  1.888563   w  1.551059\n",
       "new_obj3    0.049371   0.938659   0.868206  1.270604   w  1.856237\n",
       "new_obj4    0.170535   0.084886   0.365416  0.398085   m  0.620837\n",
       "new_obj5    0.153400   0.311474   0.459796  0.747079   m  0.924670\n",
       "new_obj6    0.330433   0.000000   0.033137  0.932812   w  0.363570\n",
       "new_obj7    0.655147   0.000000   0.060778  0.756462   m  0.715925\n",
       "new_obj8    0.250441   0.000000   0.727563  2.083161   m  0.978004\n",
       "new_obj9    0.952466   0.000000   0.544203  2.306616   w  1.496669\n",
       "new_obj10   0.141845   0.817851   0.128673  1.199647   m  1.088368"
      ]
     },
     "execution_count": 46,
     "metadata": {},
     "output_type": "execute_result"
    }
   ],
   "source": [
    "df = df.iloc[1:, :]\n",
    "df"
   ]
  },
  {
   "cell_type": "code",
   "execution_count": 47,
   "metadata": {
    "ExecuteTime": {
     "end_time": "2019-12-11T16:29:25.013856Z",
     "start_time": "2019-12-11T16:29:24.995903Z"
    }
   },
   "outputs": [
    {
     "name": "stderr",
     "output_type": "stream",
     "text": [
      "C:\\Program_Files_Special\\Python373\\lib\\site-packages\\ipykernel_launcher.py:1: SettingWithCopyWarning: \n",
      "A value is trying to be set on a copy of a slice from a DataFrame.\n",
      "Try using .loc[row_indexer,col_indexer] = value instead\n",
      "\n",
      "See the caveats in the documentation: http://pandas.pydata.org/pandas-docs/stable/user_guide/indexing.html#returning-a-view-versus-a-copy\n",
      "  \"\"\"Entry point for launching an IPython kernel.\n"
     ]
    },
    {
     "data": {
      "text/html": [
       "<div>\n",
       "<style scoped>\n",
       "    .dataframe tbody tr th:only-of-type {\n",
       "        vertical-align: middle;\n",
       "    }\n",
       "\n",
       "    .dataframe tbody tr th {\n",
       "        vertical-align: top;\n",
       "    }\n",
       "\n",
       "    .dataframe thead th {\n",
       "        text-align: right;\n",
       "    }\n",
       "</style>\n",
       "<table border=\"1\" class=\"dataframe\">\n",
       "  <thead>\n",
       "    <tr style=\"text-align: right;\">\n",
       "      <th></th>\n",
       "      <th>feature_1</th>\n",
       "      <th>feature_2</th>\n",
       "      <th>feature_3</th>\n",
       "      <th>target</th>\n",
       "      <th>sex</th>\n",
       "      <th>sum</th>\n",
       "      <th>new_column</th>\n",
       "    </tr>\n",
       "  </thead>\n",
       "  <tbody>\n",
       "    <tr>\n",
       "      <th>new_obj2</th>\n",
       "      <td>0.063662</td>\n",
       "      <td>0.704194</td>\n",
       "      <td>0.783203</td>\n",
       "      <td>1.888563</td>\n",
       "      <td>w</td>\n",
       "      <td>1.551059</td>\n",
       "      <td>0</td>\n",
       "    </tr>\n",
       "    <tr>\n",
       "      <th>new_obj3</th>\n",
       "      <td>0.049371</td>\n",
       "      <td>0.938659</td>\n",
       "      <td>0.868206</td>\n",
       "      <td>1.270604</td>\n",
       "      <td>w</td>\n",
       "      <td>1.856237</td>\n",
       "      <td>0</td>\n",
       "    </tr>\n",
       "    <tr>\n",
       "      <th>new_obj4</th>\n",
       "      <td>0.170535</td>\n",
       "      <td>0.084886</td>\n",
       "      <td>0.365416</td>\n",
       "      <td>0.398085</td>\n",
       "      <td>m</td>\n",
       "      <td>0.620837</td>\n",
       "      <td>0</td>\n",
       "    </tr>\n",
       "    <tr>\n",
       "      <th>new_obj5</th>\n",
       "      <td>0.153400</td>\n",
       "      <td>0.311474</td>\n",
       "      <td>0.459796</td>\n",
       "      <td>0.747079</td>\n",
       "      <td>m</td>\n",
       "      <td>0.924670</td>\n",
       "      <td>0</td>\n",
       "    </tr>\n",
       "    <tr>\n",
       "      <th>new_obj6</th>\n",
       "      <td>0.330433</td>\n",
       "      <td>0.000000</td>\n",
       "      <td>0.033137</td>\n",
       "      <td>0.932812</td>\n",
       "      <td>w</td>\n",
       "      <td>0.363570</td>\n",
       "      <td>0</td>\n",
       "    </tr>\n",
       "    <tr>\n",
       "      <th>new_obj7</th>\n",
       "      <td>0.655147</td>\n",
       "      <td>0.000000</td>\n",
       "      <td>0.060778</td>\n",
       "      <td>0.756462</td>\n",
       "      <td>m</td>\n",
       "      <td>0.715925</td>\n",
       "      <td>0</td>\n",
       "    </tr>\n",
       "    <tr>\n",
       "      <th>new_obj8</th>\n",
       "      <td>0.250441</td>\n",
       "      <td>0.000000</td>\n",
       "      <td>0.727563</td>\n",
       "      <td>2.083161</td>\n",
       "      <td>m</td>\n",
       "      <td>0.978004</td>\n",
       "      <td>0</td>\n",
       "    </tr>\n",
       "    <tr>\n",
       "      <th>new_obj9</th>\n",
       "      <td>0.952466</td>\n",
       "      <td>0.000000</td>\n",
       "      <td>0.544203</td>\n",
       "      <td>2.306616</td>\n",
       "      <td>w</td>\n",
       "      <td>1.496669</td>\n",
       "      <td>0</td>\n",
       "    </tr>\n",
       "    <tr>\n",
       "      <th>new_obj10</th>\n",
       "      <td>0.141845</td>\n",
       "      <td>0.817851</td>\n",
       "      <td>0.128673</td>\n",
       "      <td>1.199647</td>\n",
       "      <td>m</td>\n",
       "      <td>1.088368</td>\n",
       "      <td>0</td>\n",
       "    </tr>\n",
       "  </tbody>\n",
       "</table>\n",
       "</div>"
      ],
      "text/plain": [
       "           feature_1  feature_2  feature_3    target sex       sum  new_column\n",
       "new_obj2    0.063662   0.704194   0.783203  1.888563   w  1.551059           0\n",
       "new_obj3    0.049371   0.938659   0.868206  1.270604   w  1.856237           0\n",
       "new_obj4    0.170535   0.084886   0.365416  0.398085   m  0.620837           0\n",
       "new_obj5    0.153400   0.311474   0.459796  0.747079   m  0.924670           0\n",
       "new_obj6    0.330433   0.000000   0.033137  0.932812   w  0.363570           0\n",
       "new_obj7    0.655147   0.000000   0.060778  0.756462   m  0.715925           0\n",
       "new_obj8    0.250441   0.000000   0.727563  2.083161   m  0.978004           0\n",
       "new_obj9    0.952466   0.000000   0.544203  2.306616   w  1.496669           0\n",
       "new_obj10   0.141845   0.817851   0.128673  1.199647   m  1.088368           0"
      ]
     },
     "execution_count": 47,
     "metadata": {},
     "output_type": "execute_result"
    }
   ],
   "source": [
    "df['new_column'] = 0\n",
    "df"
   ]
  },
  {
   "cell_type": "code",
   "execution_count": 48,
   "metadata": {
    "ExecuteTime": {
     "end_time": "2019-12-11T16:29:25.040784Z",
     "start_time": "2019-12-11T16:29:25.016847Z"
    }
   },
   "outputs": [
    {
     "name": "stderr",
     "output_type": "stream",
     "text": [
      "C:\\Program_Files_Special\\Python373\\lib\\site-packages\\pandas\\core\\indexing.py:202: SettingWithCopyWarning: \n",
      "A value is trying to be set on a copy of a slice from a DataFrame\n",
      "\n",
      "See the caveats in the documentation: http://pandas.pydata.org/pandas-docs/stable/user_guide/indexing.html#returning-a-view-versus-a-copy\n",
      "  self._setitem_with_indexer(indexer, value)\n"
     ]
    },
    {
     "data": {
      "text/html": [
       "<div>\n",
       "<style scoped>\n",
       "    .dataframe tbody tr th:only-of-type {\n",
       "        vertical-align: middle;\n",
       "    }\n",
       "\n",
       "    .dataframe tbody tr th {\n",
       "        vertical-align: top;\n",
       "    }\n",
       "\n",
       "    .dataframe thead th {\n",
       "        text-align: right;\n",
       "    }\n",
       "</style>\n",
       "<table border=\"1\" class=\"dataframe\">\n",
       "  <thead>\n",
       "    <tr style=\"text-align: right;\">\n",
       "      <th></th>\n",
       "      <th>feature_1</th>\n",
       "      <th>feature_2</th>\n",
       "      <th>feature_3</th>\n",
       "      <th>target</th>\n",
       "      <th>sex</th>\n",
       "      <th>sum</th>\n",
       "      <th>new_column</th>\n",
       "    </tr>\n",
       "  </thead>\n",
       "  <tbody>\n",
       "    <tr>\n",
       "      <th>new_obj2</th>\n",
       "      <td>0.063662</td>\n",
       "      <td>0.704194</td>\n",
       "      <td>0.783203</td>\n",
       "      <td>1.888563</td>\n",
       "      <td>w</td>\n",
       "      <td>1.551059</td>\n",
       "      <td>0</td>\n",
       "    </tr>\n",
       "    <tr>\n",
       "      <th>new_obj3</th>\n",
       "      <td>0.049371</td>\n",
       "      <td>0.938659</td>\n",
       "      <td>0.868206</td>\n",
       "      <td>1.270604</td>\n",
       "      <td>w</td>\n",
       "      <td>1.856237</td>\n",
       "      <td>0</td>\n",
       "    </tr>\n",
       "    <tr>\n",
       "      <th>new_obj4</th>\n",
       "      <td>0.170535</td>\n",
       "      <td>0.084886</td>\n",
       "      <td>0.365416</td>\n",
       "      <td>0.398085</td>\n",
       "      <td>m</td>\n",
       "      <td>0.620837</td>\n",
       "      <td>0</td>\n",
       "    </tr>\n",
       "    <tr>\n",
       "      <th>new_obj5</th>\n",
       "      <td>0.153400</td>\n",
       "      <td>0.311474</td>\n",
       "      <td>0.459796</td>\n",
       "      <td>0.747079</td>\n",
       "      <td>m</td>\n",
       "      <td>0.924670</td>\n",
       "      <td>0</td>\n",
       "    </tr>\n",
       "    <tr>\n",
       "      <th>new_obj6</th>\n",
       "      <td>0.330433</td>\n",
       "      <td>0.000000</td>\n",
       "      <td>0.033137</td>\n",
       "      <td>0.932812</td>\n",
       "      <td>w</td>\n",
       "      <td>0.363570</td>\n",
       "      <td>0</td>\n",
       "    </tr>\n",
       "    <tr>\n",
       "      <th>new_obj7</th>\n",
       "      <td>0.655147</td>\n",
       "      <td>0.000000</td>\n",
       "      <td>0.060778</td>\n",
       "      <td>0.756462</td>\n",
       "      <td>m</td>\n",
       "      <td>0.715925</td>\n",
       "      <td>0</td>\n",
       "    </tr>\n",
       "    <tr>\n",
       "      <th>new_obj8</th>\n",
       "      <td>0.250441</td>\n",
       "      <td>0.000000</td>\n",
       "      <td>0.727563</td>\n",
       "      <td>2.083161</td>\n",
       "      <td>m</td>\n",
       "      <td>0.978004</td>\n",
       "      <td>0</td>\n",
       "    </tr>\n",
       "    <tr>\n",
       "      <th>new_obj9</th>\n",
       "      <td>0.952466</td>\n",
       "      <td>0.000000</td>\n",
       "      <td>0.544203</td>\n",
       "      <td>2.306616</td>\n",
       "      <td>w</td>\n",
       "      <td>1.496669</td>\n",
       "      <td>0</td>\n",
       "    </tr>\n",
       "    <tr>\n",
       "      <th>new_obj10</th>\n",
       "      <td>0.141845</td>\n",
       "      <td>0.817851</td>\n",
       "      <td>0.128673</td>\n",
       "      <td>1.199647</td>\n",
       "      <td>m</td>\n",
       "      <td>1.088368</td>\n",
       "      <td>0</td>\n",
       "    </tr>\n",
       "    <tr>\n",
       "      <th>new_column2</th>\n",
       "      <td>1.000000</td>\n",
       "      <td>1.000000</td>\n",
       "      <td>1.000000</td>\n",
       "      <td>1.000000</td>\n",
       "      <td>1</td>\n",
       "      <td>1.000000</td>\n",
       "      <td>1</td>\n",
       "    </tr>\n",
       "  </tbody>\n",
       "</table>\n",
       "</div>"
      ],
      "text/plain": [
       "             feature_1  feature_2  feature_3    target sex       sum  \\\n",
       "new_obj2      0.063662   0.704194   0.783203  1.888563   w  1.551059   \n",
       "new_obj3      0.049371   0.938659   0.868206  1.270604   w  1.856237   \n",
       "new_obj4      0.170535   0.084886   0.365416  0.398085   m  0.620837   \n",
       "new_obj5      0.153400   0.311474   0.459796  0.747079   m  0.924670   \n",
       "new_obj6      0.330433   0.000000   0.033137  0.932812   w  0.363570   \n",
       "new_obj7      0.655147   0.000000   0.060778  0.756462   m  0.715925   \n",
       "new_obj8      0.250441   0.000000   0.727563  2.083161   m  0.978004   \n",
       "new_obj9      0.952466   0.000000   0.544203  2.306616   w  1.496669   \n",
       "new_obj10     0.141845   0.817851   0.128673  1.199647   m  1.088368   \n",
       "new_column2   1.000000   1.000000   1.000000  1.000000   1  1.000000   \n",
       "\n",
       "             new_column  \n",
       "new_obj2              0  \n",
       "new_obj3              0  \n",
       "new_obj4              0  \n",
       "new_obj5              0  \n",
       "new_obj6              0  \n",
       "new_obj7              0  \n",
       "new_obj8              0  \n",
       "new_obj9              0  \n",
       "new_obj10             0  \n",
       "new_column2           1  "
      ]
     },
     "execution_count": 48,
     "metadata": {},
     "output_type": "execute_result"
    }
   ],
   "source": [
    "df.loc['new_column2'] = 1\n",
    "df"
   ]
  },
  {
   "cell_type": "code",
   "execution_count": 49,
   "metadata": {
    "ExecuteTime": {
     "end_time": "2019-12-11T16:29:25.068708Z",
     "start_time": "2019-12-11T16:29:25.042778Z"
    }
   },
   "outputs": [
    {
     "name": "stderr",
     "output_type": "stream",
     "text": [
      "C:\\Program_Files_Special\\Python373\\lib\\site-packages\\pandas\\core\\indexing.py:362: SettingWithCopyWarning: \n",
      "A value is trying to be set on a copy of a slice from a DataFrame.\n",
      "Try using .loc[row_indexer,col_indexer] = value instead\n",
      "\n",
      "See the caveats in the documentation: http://pandas.pydata.org/pandas-docs/stable/user_guide/indexing.html#returning-a-view-versus-a-copy\n",
      "  self.obj[key] = _infer_fill_value(value)\n",
      "C:\\Program_Files_Special\\Python373\\lib\\site-packages\\pandas\\core\\indexing.py:480: SettingWithCopyWarning: \n",
      "A value is trying to be set on a copy of a slice from a DataFrame.\n",
      "Try using .loc[row_indexer,col_indexer] = value instead\n",
      "\n",
      "See the caveats in the documentation: http://pandas.pydata.org/pandas-docs/stable/user_guide/indexing.html#returning-a-view-versus-a-copy\n",
      "  self.obj[item] = s\n"
     ]
    },
    {
     "data": {
      "text/html": [
       "<div>\n",
       "<style scoped>\n",
       "    .dataframe tbody tr th:only-of-type {\n",
       "        vertical-align: middle;\n",
       "    }\n",
       "\n",
       "    .dataframe tbody tr th {\n",
       "        vertical-align: top;\n",
       "    }\n",
       "\n",
       "    .dataframe thead th {\n",
       "        text-align: right;\n",
       "    }\n",
       "</style>\n",
       "<table border=\"1\" class=\"dataframe\">\n",
       "  <thead>\n",
       "    <tr style=\"text-align: right;\">\n",
       "      <th></th>\n",
       "      <th>feature_1</th>\n",
       "      <th>feature_2</th>\n",
       "      <th>feature_3</th>\n",
       "      <th>target</th>\n",
       "      <th>sex</th>\n",
       "      <th>sum</th>\n",
       "      <th>new_column</th>\n",
       "      <th>new_column3</th>\n",
       "    </tr>\n",
       "  </thead>\n",
       "  <tbody>\n",
       "    <tr>\n",
       "      <th>new_obj2</th>\n",
       "      <td>0.063662</td>\n",
       "      <td>0.704194</td>\n",
       "      <td>0.783203</td>\n",
       "      <td>1.888563</td>\n",
       "      <td>w</td>\n",
       "      <td>1.551059</td>\n",
       "      <td>0</td>\n",
       "      <td>1</td>\n",
       "    </tr>\n",
       "    <tr>\n",
       "      <th>new_obj3</th>\n",
       "      <td>0.049371</td>\n",
       "      <td>0.938659</td>\n",
       "      <td>0.868206</td>\n",
       "      <td>1.270604</td>\n",
       "      <td>w</td>\n",
       "      <td>1.856237</td>\n",
       "      <td>0</td>\n",
       "      <td>1</td>\n",
       "    </tr>\n",
       "    <tr>\n",
       "      <th>new_obj4</th>\n",
       "      <td>0.170535</td>\n",
       "      <td>0.084886</td>\n",
       "      <td>0.365416</td>\n",
       "      <td>0.398085</td>\n",
       "      <td>m</td>\n",
       "      <td>0.620837</td>\n",
       "      <td>0</td>\n",
       "      <td>1</td>\n",
       "    </tr>\n",
       "    <tr>\n",
       "      <th>new_obj5</th>\n",
       "      <td>0.153400</td>\n",
       "      <td>0.311474</td>\n",
       "      <td>0.459796</td>\n",
       "      <td>0.747079</td>\n",
       "      <td>m</td>\n",
       "      <td>0.924670</td>\n",
       "      <td>0</td>\n",
       "      <td>1</td>\n",
       "    </tr>\n",
       "    <tr>\n",
       "      <th>new_obj6</th>\n",
       "      <td>0.330433</td>\n",
       "      <td>0.000000</td>\n",
       "      <td>0.033137</td>\n",
       "      <td>0.932812</td>\n",
       "      <td>w</td>\n",
       "      <td>0.363570</td>\n",
       "      <td>0</td>\n",
       "      <td>1</td>\n",
       "    </tr>\n",
       "    <tr>\n",
       "      <th>new_obj7</th>\n",
       "      <td>0.655147</td>\n",
       "      <td>0.000000</td>\n",
       "      <td>0.060778</td>\n",
       "      <td>0.756462</td>\n",
       "      <td>m</td>\n",
       "      <td>0.715925</td>\n",
       "      <td>0</td>\n",
       "      <td>1</td>\n",
       "    </tr>\n",
       "    <tr>\n",
       "      <th>new_obj8</th>\n",
       "      <td>0.250441</td>\n",
       "      <td>0.000000</td>\n",
       "      <td>0.727563</td>\n",
       "      <td>2.083161</td>\n",
       "      <td>m</td>\n",
       "      <td>0.978004</td>\n",
       "      <td>0</td>\n",
       "      <td>1</td>\n",
       "    </tr>\n",
       "    <tr>\n",
       "      <th>new_obj9</th>\n",
       "      <td>0.952466</td>\n",
       "      <td>0.000000</td>\n",
       "      <td>0.544203</td>\n",
       "      <td>2.306616</td>\n",
       "      <td>w</td>\n",
       "      <td>1.496669</td>\n",
       "      <td>0</td>\n",
       "      <td>1</td>\n",
       "    </tr>\n",
       "    <tr>\n",
       "      <th>new_obj10</th>\n",
       "      <td>0.141845</td>\n",
       "      <td>0.817851</td>\n",
       "      <td>0.128673</td>\n",
       "      <td>1.199647</td>\n",
       "      <td>m</td>\n",
       "      <td>1.088368</td>\n",
       "      <td>0</td>\n",
       "      <td>1</td>\n",
       "    </tr>\n",
       "    <tr>\n",
       "      <th>new_column2</th>\n",
       "      <td>1.000000</td>\n",
       "      <td>1.000000</td>\n",
       "      <td>1.000000</td>\n",
       "      <td>1.000000</td>\n",
       "      <td>1</td>\n",
       "      <td>1.000000</td>\n",
       "      <td>1</td>\n",
       "      <td>1</td>\n",
       "    </tr>\n",
       "  </tbody>\n",
       "</table>\n",
       "</div>"
      ],
      "text/plain": [
       "             feature_1  feature_2  feature_3    target sex       sum  \\\n",
       "new_obj2      0.063662   0.704194   0.783203  1.888563   w  1.551059   \n",
       "new_obj3      0.049371   0.938659   0.868206  1.270604   w  1.856237   \n",
       "new_obj4      0.170535   0.084886   0.365416  0.398085   m  0.620837   \n",
       "new_obj5      0.153400   0.311474   0.459796  0.747079   m  0.924670   \n",
       "new_obj6      0.330433   0.000000   0.033137  0.932812   w  0.363570   \n",
       "new_obj7      0.655147   0.000000   0.060778  0.756462   m  0.715925   \n",
       "new_obj8      0.250441   0.000000   0.727563  2.083161   m  0.978004   \n",
       "new_obj9      0.952466   0.000000   0.544203  2.306616   w  1.496669   \n",
       "new_obj10     0.141845   0.817851   0.128673  1.199647   m  1.088368   \n",
       "new_column2   1.000000   1.000000   1.000000  1.000000   1  1.000000   \n",
       "\n",
       "             new_column  new_column3  \n",
       "new_obj2              0            1  \n",
       "new_obj3              0            1  \n",
       "new_obj4              0            1  \n",
       "new_obj5              0            1  \n",
       "new_obj6              0            1  \n",
       "new_obj7              0            1  \n",
       "new_obj8              0            1  \n",
       "new_obj9              0            1  \n",
       "new_obj10             0            1  \n",
       "new_column2           1            1  "
      ]
     },
     "execution_count": 49,
     "metadata": {},
     "output_type": "execute_result"
    }
   ],
   "source": [
    "df.loc[:, 'new_column3'] = 1\n",
    "df"
   ]
  },
  {
   "cell_type": "code",
   "execution_count": 50,
   "metadata": {
    "ExecuteTime": {
     "end_time": "2019-12-11T16:29:25.076688Z",
     "start_time": "2019-12-11T16:29:25.070704Z"
    }
   },
   "outputs": [
    {
     "data": {
      "text/plain": [
       "Index(['feature_1', 'feature_2', 'feature_3', 'target', 'sex', 'sum',\n",
       "       'new_column', 'new_column3'],\n",
       "      dtype='object')"
      ]
     },
     "execution_count": 50,
     "metadata": {},
     "output_type": "execute_result"
    }
   ],
   "source": [
    "df.columns"
   ]
  },
  {
   "cell_type": "code",
   "execution_count": 51,
   "metadata": {
    "ExecuteTime": {
     "end_time": "2019-12-11T16:29:25.093645Z",
     "start_time": "2019-12-11T16:29:25.078682Z"
    }
   },
   "outputs": [
    {
     "data": {
      "text/html": [
       "<div>\n",
       "<style scoped>\n",
       "    .dataframe tbody tr th:only-of-type {\n",
       "        vertical-align: middle;\n",
       "    }\n",
       "\n",
       "    .dataframe tbody tr th {\n",
       "        vertical-align: top;\n",
       "    }\n",
       "\n",
       "    .dataframe thead th {\n",
       "        text-align: right;\n",
       "    }\n",
       "</style>\n",
       "<table border=\"1\" class=\"dataframe\">\n",
       "  <thead>\n",
       "    <tr style=\"text-align: right;\">\n",
       "      <th></th>\n",
       "      <th>feature_1</th>\n",
       "      <th>feature_2</th>\n",
       "      <th>feature_3</th>\n",
       "    </tr>\n",
       "  </thead>\n",
       "  <tbody>\n",
       "    <tr>\n",
       "      <th>new_obj2</th>\n",
       "      <td>0.063662</td>\n",
       "      <td>0.704194</td>\n",
       "      <td>0.783203</td>\n",
       "    </tr>\n",
       "    <tr>\n",
       "      <th>new_obj3</th>\n",
       "      <td>0.049371</td>\n",
       "      <td>0.938659</td>\n",
       "      <td>0.868206</td>\n",
       "    </tr>\n",
       "    <tr>\n",
       "      <th>new_obj4</th>\n",
       "      <td>0.170535</td>\n",
       "      <td>0.084886</td>\n",
       "      <td>0.365416</td>\n",
       "    </tr>\n",
       "    <tr>\n",
       "      <th>new_obj5</th>\n",
       "      <td>0.153400</td>\n",
       "      <td>0.311474</td>\n",
       "      <td>0.459796</td>\n",
       "    </tr>\n",
       "    <tr>\n",
       "      <th>new_obj6</th>\n",
       "      <td>0.330433</td>\n",
       "      <td>0.000000</td>\n",
       "      <td>0.033137</td>\n",
       "    </tr>\n",
       "    <tr>\n",
       "      <th>new_obj7</th>\n",
       "      <td>0.655147</td>\n",
       "      <td>0.000000</td>\n",
       "      <td>0.060778</td>\n",
       "    </tr>\n",
       "    <tr>\n",
       "      <th>new_obj8</th>\n",
       "      <td>0.250441</td>\n",
       "      <td>0.000000</td>\n",
       "      <td>0.727563</td>\n",
       "    </tr>\n",
       "    <tr>\n",
       "      <th>new_obj9</th>\n",
       "      <td>0.952466</td>\n",
       "      <td>0.000000</td>\n",
       "      <td>0.544203</td>\n",
       "    </tr>\n",
       "    <tr>\n",
       "      <th>new_obj10</th>\n",
       "      <td>0.141845</td>\n",
       "      <td>0.817851</td>\n",
       "      <td>0.128673</td>\n",
       "    </tr>\n",
       "    <tr>\n",
       "      <th>new_column2</th>\n",
       "      <td>1.000000</td>\n",
       "      <td>1.000000</td>\n",
       "      <td>1.000000</td>\n",
       "    </tr>\n",
       "  </tbody>\n",
       "</table>\n",
       "</div>"
      ],
      "text/plain": [
       "             feature_1  feature_2  feature_3\n",
       "new_obj2      0.063662   0.704194   0.783203\n",
       "new_obj3      0.049371   0.938659   0.868206\n",
       "new_obj4      0.170535   0.084886   0.365416\n",
       "new_obj5      0.153400   0.311474   0.459796\n",
       "new_obj6      0.330433   0.000000   0.033137\n",
       "new_obj7      0.655147   0.000000   0.060778\n",
       "new_obj8      0.250441   0.000000   0.727563\n",
       "new_obj9      0.952466   0.000000   0.544203\n",
       "new_obj10     0.141845   0.817851   0.128673\n",
       "new_column2   1.000000   1.000000   1.000000"
      ]
     },
     "execution_count": 51,
     "metadata": {},
     "output_type": "execute_result"
    }
   ],
   "source": [
    "df = df.iloc[:,:-5]\n",
    "df"
   ]
  },
  {
   "cell_type": "code",
   "execution_count": 52,
   "metadata": {
    "ExecuteTime": {
     "end_time": "2019-12-11T16:29:25.111594Z",
     "start_time": "2019-12-11T16:29:25.096634Z"
    }
   },
   "outputs": [
    {
     "data": {
      "text/html": [
       "<div>\n",
       "<style scoped>\n",
       "    .dataframe tbody tr th:only-of-type {\n",
       "        vertical-align: middle;\n",
       "    }\n",
       "\n",
       "    .dataframe tbody tr th {\n",
       "        vertical-align: top;\n",
       "    }\n",
       "\n",
       "    .dataframe thead th {\n",
       "        text-align: right;\n",
       "    }\n",
       "</style>\n",
       "<table border=\"1\" class=\"dataframe\">\n",
       "  <thead>\n",
       "    <tr style=\"text-align: right;\">\n",
       "      <th></th>\n",
       "      <th>feature_1</th>\n",
       "      <th>feature_2</th>\n",
       "      <th>feature_3</th>\n",
       "    </tr>\n",
       "  </thead>\n",
       "  <tbody>\n",
       "    <tr>\n",
       "      <th>new_obj2</th>\n",
       "      <td>0.063662</td>\n",
       "      <td>0.704194</td>\n",
       "      <td>0.783203</td>\n",
       "    </tr>\n",
       "    <tr>\n",
       "      <th>new_obj3</th>\n",
       "      <td>0.049371</td>\n",
       "      <td>0.938659</td>\n",
       "      <td>0.868206</td>\n",
       "    </tr>\n",
       "    <tr>\n",
       "      <th>new_obj4</th>\n",
       "      <td>0.170535</td>\n",
       "      <td>0.084886</td>\n",
       "      <td>0.365416</td>\n",
       "    </tr>\n",
       "    <tr>\n",
       "      <th>new_obj5</th>\n",
       "      <td>0.153400</td>\n",
       "      <td>0.311474</td>\n",
       "      <td>0.459796</td>\n",
       "    </tr>\n",
       "    <tr>\n",
       "      <th>new_obj6</th>\n",
       "      <td>0.330433</td>\n",
       "      <td>0.000000</td>\n",
       "      <td>0.033137</td>\n",
       "    </tr>\n",
       "    <tr>\n",
       "      <th>new_obj7</th>\n",
       "      <td>0.655147</td>\n",
       "      <td>0.000000</td>\n",
       "      <td>0.060778</td>\n",
       "    </tr>\n",
       "    <tr>\n",
       "      <th>new_obj8</th>\n",
       "      <td>0.250441</td>\n",
       "      <td>0.000000</td>\n",
       "      <td>0.727563</td>\n",
       "    </tr>\n",
       "    <tr>\n",
       "      <th>new_obj9</th>\n",
       "      <td>0.952466</td>\n",
       "      <td>0.000000</td>\n",
       "      <td>0.544203</td>\n",
       "    </tr>\n",
       "    <tr>\n",
       "      <th>new_obj10</th>\n",
       "      <td>0.141845</td>\n",
       "      <td>0.817851</td>\n",
       "      <td>0.128673</td>\n",
       "    </tr>\n",
       "    <tr>\n",
       "      <th>new_column2</th>\n",
       "      <td>1.000000</td>\n",
       "      <td>1.000000</td>\n",
       "      <td>1.000000</td>\n",
       "    </tr>\n",
       "  </tbody>\n",
       "</table>\n",
       "</div>"
      ],
      "text/plain": [
       "             feature_1  feature_2  feature_3\n",
       "new_obj2      0.063662   0.704194   0.783203\n",
       "new_obj3      0.049371   0.938659   0.868206\n",
       "new_obj4      0.170535   0.084886   0.365416\n",
       "new_obj5      0.153400   0.311474   0.459796\n",
       "new_obj6      0.330433   0.000000   0.033137\n",
       "new_obj7      0.655147   0.000000   0.060778\n",
       "new_obj8      0.250441   0.000000   0.727563\n",
       "new_obj9      0.952466   0.000000   0.544203\n",
       "new_obj10     0.141845   0.817851   0.128673\n",
       "new_column2   1.000000   1.000000   1.000000"
      ]
     },
     "execution_count": 52,
     "metadata": {},
     "output_type": "execute_result"
    }
   ],
   "source": [
    "df.drop('new_obj2')\n",
    "df"
   ]
  },
  {
   "cell_type": "code",
   "execution_count": 53,
   "metadata": {
    "ExecuteTime": {
     "end_time": "2019-12-11T16:29:25.129546Z",
     "start_time": "2019-12-11T16:29:25.114587Z"
    }
   },
   "outputs": [
    {
     "data": {
      "text/html": [
       "<div>\n",
       "<style scoped>\n",
       "    .dataframe tbody tr th:only-of-type {\n",
       "        vertical-align: middle;\n",
       "    }\n",
       "\n",
       "    .dataframe tbody tr th {\n",
       "        vertical-align: top;\n",
       "    }\n",
       "\n",
       "    .dataframe thead th {\n",
       "        text-align: right;\n",
       "    }\n",
       "</style>\n",
       "<table border=\"1\" class=\"dataframe\">\n",
       "  <thead>\n",
       "    <tr style=\"text-align: right;\">\n",
       "      <th></th>\n",
       "      <th>feature_1</th>\n",
       "      <th>feature_2</th>\n",
       "      <th>feature_3</th>\n",
       "    </tr>\n",
       "  </thead>\n",
       "  <tbody>\n",
       "    <tr>\n",
       "      <th>new_obj3</th>\n",
       "      <td>0.049371</td>\n",
       "      <td>0.938659</td>\n",
       "      <td>0.868206</td>\n",
       "    </tr>\n",
       "    <tr>\n",
       "      <th>new_obj4</th>\n",
       "      <td>0.170535</td>\n",
       "      <td>0.084886</td>\n",
       "      <td>0.365416</td>\n",
       "    </tr>\n",
       "    <tr>\n",
       "      <th>new_obj5</th>\n",
       "      <td>0.153400</td>\n",
       "      <td>0.311474</td>\n",
       "      <td>0.459796</td>\n",
       "    </tr>\n",
       "    <tr>\n",
       "      <th>new_obj6</th>\n",
       "      <td>0.330433</td>\n",
       "      <td>0.000000</td>\n",
       "      <td>0.033137</td>\n",
       "    </tr>\n",
       "    <tr>\n",
       "      <th>new_obj7</th>\n",
       "      <td>0.655147</td>\n",
       "      <td>0.000000</td>\n",
       "      <td>0.060778</td>\n",
       "    </tr>\n",
       "    <tr>\n",
       "      <th>new_obj8</th>\n",
       "      <td>0.250441</td>\n",
       "      <td>0.000000</td>\n",
       "      <td>0.727563</td>\n",
       "    </tr>\n",
       "    <tr>\n",
       "      <th>new_obj9</th>\n",
       "      <td>0.952466</td>\n",
       "      <td>0.000000</td>\n",
       "      <td>0.544203</td>\n",
       "    </tr>\n",
       "    <tr>\n",
       "      <th>new_obj10</th>\n",
       "      <td>0.141845</td>\n",
       "      <td>0.817851</td>\n",
       "      <td>0.128673</td>\n",
       "    </tr>\n",
       "    <tr>\n",
       "      <th>new_column2</th>\n",
       "      <td>1.000000</td>\n",
       "      <td>1.000000</td>\n",
       "      <td>1.000000</td>\n",
       "    </tr>\n",
       "  </tbody>\n",
       "</table>\n",
       "</div>"
      ],
      "text/plain": [
       "             feature_1  feature_2  feature_3\n",
       "new_obj3      0.049371   0.938659   0.868206\n",
       "new_obj4      0.170535   0.084886   0.365416\n",
       "new_obj5      0.153400   0.311474   0.459796\n",
       "new_obj6      0.330433   0.000000   0.033137\n",
       "new_obj7      0.655147   0.000000   0.060778\n",
       "new_obj8      0.250441   0.000000   0.727563\n",
       "new_obj9      0.952466   0.000000   0.544203\n",
       "new_obj10     0.141845   0.817851   0.128673\n",
       "new_column2   1.000000   1.000000   1.000000"
      ]
     },
     "execution_count": 53,
     "metadata": {},
     "output_type": "execute_result"
    }
   ],
   "source": [
    "df = df.drop('new_obj2')\n",
    "df"
   ]
  },
  {
   "cell_type": "code",
   "execution_count": 54,
   "metadata": {
    "ExecuteTime": {
     "end_time": "2019-12-11T16:29:25.148497Z",
     "start_time": "2019-12-11T16:29:25.133536Z"
    }
   },
   "outputs": [
    {
     "data": {
      "text/html": [
       "<div>\n",
       "<style scoped>\n",
       "    .dataframe tbody tr th:only-of-type {\n",
       "        vertical-align: middle;\n",
       "    }\n",
       "\n",
       "    .dataframe tbody tr th {\n",
       "        vertical-align: top;\n",
       "    }\n",
       "\n",
       "    .dataframe thead th {\n",
       "        text-align: right;\n",
       "    }\n",
       "</style>\n",
       "<table border=\"1\" class=\"dataframe\">\n",
       "  <thead>\n",
       "    <tr style=\"text-align: right;\">\n",
       "      <th></th>\n",
       "      <th>feature_1</th>\n",
       "      <th>feature_2</th>\n",
       "    </tr>\n",
       "  </thead>\n",
       "  <tbody>\n",
       "    <tr>\n",
       "      <th>new_obj3</th>\n",
       "      <td>0.049371</td>\n",
       "      <td>0.938659</td>\n",
       "    </tr>\n",
       "    <tr>\n",
       "      <th>new_obj4</th>\n",
       "      <td>0.170535</td>\n",
       "      <td>0.084886</td>\n",
       "    </tr>\n",
       "    <tr>\n",
       "      <th>new_obj5</th>\n",
       "      <td>0.153400</td>\n",
       "      <td>0.311474</td>\n",
       "    </tr>\n",
       "    <tr>\n",
       "      <th>new_obj6</th>\n",
       "      <td>0.330433</td>\n",
       "      <td>0.000000</td>\n",
       "    </tr>\n",
       "    <tr>\n",
       "      <th>new_obj7</th>\n",
       "      <td>0.655147</td>\n",
       "      <td>0.000000</td>\n",
       "    </tr>\n",
       "    <tr>\n",
       "      <th>new_obj8</th>\n",
       "      <td>0.250441</td>\n",
       "      <td>0.000000</td>\n",
       "    </tr>\n",
       "    <tr>\n",
       "      <th>new_obj9</th>\n",
       "      <td>0.952466</td>\n",
       "      <td>0.000000</td>\n",
       "    </tr>\n",
       "    <tr>\n",
       "      <th>new_obj10</th>\n",
       "      <td>0.141845</td>\n",
       "      <td>0.817851</td>\n",
       "    </tr>\n",
       "    <tr>\n",
       "      <th>new_column2</th>\n",
       "      <td>1.000000</td>\n",
       "      <td>1.000000</td>\n",
       "    </tr>\n",
       "  </tbody>\n",
       "</table>\n",
       "</div>"
      ],
      "text/plain": [
       "             feature_1  feature_2\n",
       "new_obj3      0.049371   0.938659\n",
       "new_obj4      0.170535   0.084886\n",
       "new_obj5      0.153400   0.311474\n",
       "new_obj6      0.330433   0.000000\n",
       "new_obj7      0.655147   0.000000\n",
       "new_obj8      0.250441   0.000000\n",
       "new_obj9      0.952466   0.000000\n",
       "new_obj10     0.141845   0.817851\n",
       "new_column2   1.000000   1.000000"
      ]
     },
     "execution_count": 54,
     "metadata": {},
     "output_type": "execute_result"
    }
   ],
   "source": [
    "df = df.drop('feature_3', axis=1)\n",
    "df"
   ]
  },
  {
   "cell_type": "code",
   "execution_count": 55,
   "metadata": {
    "ExecuteTime": {
     "end_time": "2019-12-11T16:29:25.162460Z",
     "start_time": "2019-12-11T16:29:25.151487Z"
    }
   },
   "outputs": [
    {
     "data": {
      "text/html": [
       "<div>\n",
       "<style scoped>\n",
       "    .dataframe tbody tr th:only-of-type {\n",
       "        vertical-align: middle;\n",
       "    }\n",
       "\n",
       "    .dataframe tbody tr th {\n",
       "        vertical-align: top;\n",
       "    }\n",
       "\n",
       "    .dataframe thead th {\n",
       "        text-align: right;\n",
       "    }\n",
       "</style>\n",
       "<table border=\"1\" class=\"dataframe\">\n",
       "  <thead>\n",
       "    <tr style=\"text-align: right;\">\n",
       "      <th></th>\n",
       "      <th>feature_1</th>\n",
       "      <th>feature_2</th>\n",
       "    </tr>\n",
       "  </thead>\n",
       "  <tbody>\n",
       "    <tr>\n",
       "      <th>feature_1</th>\n",
       "      <td>1.000000</td>\n",
       "      <td>-0.056855</td>\n",
       "    </tr>\n",
       "    <tr>\n",
       "      <th>feature_2</th>\n",
       "      <td>-0.056855</td>\n",
       "      <td>1.000000</td>\n",
       "    </tr>\n",
       "  </tbody>\n",
       "</table>\n",
       "</div>"
      ],
      "text/plain": [
       "           feature_1  feature_2\n",
       "feature_1   1.000000  -0.056855\n",
       "feature_2  -0.056855   1.000000"
      ]
     },
     "execution_count": 55,
     "metadata": {},
     "output_type": "execute_result"
    }
   ],
   "source": [
    "df.corr()"
   ]
  },
  {
   "cell_type": "code",
   "execution_count": 56,
   "metadata": {
    "ExecuteTime": {
     "end_time": "2019-12-11T16:29:25.582848Z",
     "start_time": "2019-12-11T16:29:25.165451Z"
    }
   },
   "outputs": [
    {
     "data": {
      "text/plain": [
       "<matplotlib.axes._subplots.AxesSubplot at 0x112222d0>"
      ]
     },
     "execution_count": 56,
     "metadata": {},
     "output_type": "execute_result"
    },
    {
     "data": {
      "image/png": "[encoded data removed]",
      "text/plain": [
       "<Figure size 432x288 with 1 Axes>"
      ]
     },
     "metadata": {
      "needs_background": "light"
     },
     "output_type": "display_data"
    }
   ],
   "source": [
    "%matplotlib inline\n",
    "\n",
    "df.feature_1.hist(bins=3)"
   ]
  },
  {
   "cell_type": "code",
   "execution_count": 57,
   "metadata": {
    "ExecuteTime": {
     "end_time": "2019-12-11T16:29:25.601793Z",
     "start_time": "2019-12-11T16:29:25.586835Z"
    }
   },
   "outputs": [],
   "source": [
    "df = pd.read_csv('../data/titanic_train.csv', index_col='PassengerId')"
   ]
  },
  {
   "cell_type": "code",
   "execution_count": 58,
   "metadata": {
    "ExecuteTime": {
     "end_time": "2019-12-11T16:29:25.626727Z",
     "start_time": "2019-12-11T16:29:25.603790Z"
    }
   },
   "outputs": [
    {
     "data": {
      "text/html": [
       "<div>\n",
       "<style scoped>\n",
       "    .dataframe tbody tr th:only-of-type {\n",
       "        vertical-align: middle;\n",
       "    }\n",
       "\n",
       "    .dataframe tbody tr th {\n",
       "        vertical-align: top;\n",
       "    }\n",
       "\n",
       "    .dataframe thead th {\n",
       "        text-align: right;\n",
       "    }\n",
       "</style>\n",
       "<table border=\"1\" class=\"dataframe\">\n",
       "  <thead>\n",
       "    <tr style=\"text-align: right;\">\n",
       "      <th></th>\n",
       "      <th>Survived</th>\n",
       "      <th>Pclass</th>\n",
       "      <th>Name</th>\n",
       "      <th>Sex</th>\n",
       "      <th>Age</th>\n",
       "      <th>SibSp</th>\n",
       "      <th>Parch</th>\n",
       "      <th>Ticket</th>\n",
       "      <th>Fare</th>\n",
       "      <th>Cabin</th>\n",
       "      <th>Embarked</th>\n",
       "    </tr>\n",
       "    <tr>\n",
       "      <th>PassengerId</th>\n",
       "      <th></th>\n",
       "      <th></th>\n",
       "      <th></th>\n",
       "      <th></th>\n",
       "      <th></th>\n",
       "      <th></th>\n",
       "      <th></th>\n",
       "      <th></th>\n",
       "      <th></th>\n",
       "      <th></th>\n",
       "      <th></th>\n",
       "    </tr>\n",
       "  </thead>\n",
       "  <tbody>\n",
       "    <tr>\n",
       "      <th>1</th>\n",
       "      <td>0</td>\n",
       "      <td>3</td>\n",
       "      <td>Braund, Mr. Owen Harris</td>\n",
       "      <td>male</td>\n",
       "      <td>22.0</td>\n",
       "      <td>1</td>\n",
       "      <td>0</td>\n",
       "      <td>A/5 21171</td>\n",
       "      <td>7.2500</td>\n",
       "      <td>NaN</td>\n",
       "      <td>S</td>\n",
       "    </tr>\n",
       "    <tr>\n",
       "      <th>2</th>\n",
       "      <td>1</td>\n",
       "      <td>1</td>\n",
       "      <td>Cumings, Mrs. John Bradley (Florence Briggs Th...</td>\n",
       "      <td>female</td>\n",
       "      <td>38.0</td>\n",
       "      <td>1</td>\n",
       "      <td>0</td>\n",
       "      <td>PC 17599</td>\n",
       "      <td>71.2833</td>\n",
       "      <td>C85</td>\n",
       "      <td>C</td>\n",
       "    </tr>\n",
       "    <tr>\n",
       "      <th>3</th>\n",
       "      <td>1</td>\n",
       "      <td>3</td>\n",
       "      <td>Heikkinen, Miss. Laina</td>\n",
       "      <td>female</td>\n",
       "      <td>26.0</td>\n",
       "      <td>0</td>\n",
       "      <td>0</td>\n",
       "      <td>STON/O2. 3101282</td>\n",
       "      <td>7.9250</td>\n",
       "      <td>NaN</td>\n",
       "      <td>S</td>\n",
       "    </tr>\n",
       "    <tr>\n",
       "      <th>4</th>\n",
       "      <td>1</td>\n",
       "      <td>1</td>\n",
       "      <td>Futrelle, Mrs. Jacques Heath (Lily May Peel)</td>\n",
       "      <td>female</td>\n",
       "      <td>35.0</td>\n",
       "      <td>1</td>\n",
       "      <td>0</td>\n",
       "      <td>113803</td>\n",
       "      <td>53.1000</td>\n",
       "      <td>C123</td>\n",
       "      <td>S</td>\n",
       "    </tr>\n",
       "    <tr>\n",
       "      <th>5</th>\n",
       "      <td>0</td>\n",
       "      <td>3</td>\n",
       "      <td>Allen, Mr. William Henry</td>\n",
       "      <td>male</td>\n",
       "      <td>35.0</td>\n",
       "      <td>0</td>\n",
       "      <td>0</td>\n",
       "      <td>373450</td>\n",
       "      <td>8.0500</td>\n",
       "      <td>NaN</td>\n",
       "      <td>S</td>\n",
       "    </tr>\n",
       "  </tbody>\n",
       "</table>\n",
       "</div>"
      ],
      "text/plain": [
       "             Survived  Pclass  \\\n",
       "PassengerId                     \n",
       "1                   0       3   \n",
       "2                   1       1   \n",
       "3                   1       3   \n",
       "4                   1       1   \n",
       "5                   0       3   \n",
       "\n",
       "                                                          Name     Sex   Age  \\\n",
       "PassengerId                                                                    \n",
       "1                                      Braund, Mr. Owen Harris    male  22.0   \n",
       "2            Cumings, Mrs. John Bradley (Florence Briggs Th...  female  38.0   \n",
       "3                                       Heikkinen, Miss. Laina  female  26.0   \n",
       "4                 Futrelle, Mrs. Jacques Heath (Lily May Peel)  female  35.0   \n",
       "5                                     Allen, Mr. William Henry    male  35.0   \n",
       "\n",
       "             SibSp  Parch            Ticket     Fare Cabin Embarked  \n",
       "PassengerId                                                          \n",
       "1                1      0         A/5 21171   7.2500   NaN        S  \n",
       "2                1      0          PC 17599  71.2833   C85        C  \n",
       "3                0      0  STON/O2. 3101282   7.9250   NaN        S  \n",
       "4                1      0            113803  53.1000  C123        S  \n",
       "5                0      0            373450   8.0500   NaN        S  "
      ]
     },
     "execution_count": 58,
     "metadata": {},
     "output_type": "execute_result"
    }
   ],
   "source": [
    "df.head()"
   ]
  },
  {
   "cell_type": "code",
   "execution_count": 59,
   "metadata": {
    "ExecuteTime": {
     "end_time": "2019-12-11T16:29:25.647672Z",
     "start_time": "2019-12-11T16:29:25.628722Z"
    }
   },
   "outputs": [
    {
     "name": "stdout",
     "output_type": "stream",
     "text": [
      "<class 'pandas.core.frame.DataFrame'>\n",
      "Int64Index: 891 entries, 1 to 891\n",
      "Data columns (total 11 columns):\n",
      "Survived    891 non-null int64\n",
      "Pclass      891 non-null int64\n",
      "Name        891 non-null object\n",
      "Sex         891 non-null object\n",
      "Age         714 non-null float64\n",
      "SibSp       891 non-null int64\n",
      "Parch       891 non-null int64\n",
      "Ticket      891 non-null object\n",
      "Fare        891 non-null float64\n",
      "Cabin       204 non-null object\n",
      "Embarked    889 non-null object\n",
      "dtypes: float64(2), int64(4), object(5)\n",
      "memory usage: 66.1+ KB\n"
     ]
    }
   ],
   "source": [
    "df.info()"
   ]
  },
  {
   "cell_type": "code",
   "execution_count": 60,
   "metadata": {
    "ExecuteTime": {
     "end_time": "2019-12-11T16:29:25.694546Z",
     "start_time": "2019-12-11T16:29:25.650664Z"
    }
   },
   "outputs": [
    {
     "data": {
      "text/html": [
       "<div>\n",
       "<style scoped>\n",
       "    .dataframe tbody tr th:only-of-type {\n",
       "        vertical-align: middle;\n",
       "    }\n",
       "\n",
       "    .dataframe tbody tr th {\n",
       "        vertical-align: top;\n",
       "    }\n",
       "\n",
       "    .dataframe thead th {\n",
       "        text-align: right;\n",
       "    }\n",
       "</style>\n",
       "<table border=\"1\" class=\"dataframe\">\n",
       "  <thead>\n",
       "    <tr style=\"text-align: right;\">\n",
       "      <th></th>\n",
       "      <th>Survived</th>\n",
       "      <th>Pclass</th>\n",
       "      <th>Age</th>\n",
       "      <th>SibSp</th>\n",
       "      <th>Parch</th>\n",
       "      <th>Fare</th>\n",
       "    </tr>\n",
       "  </thead>\n",
       "  <tbody>\n",
       "    <tr>\n",
       "      <th>count</th>\n",
       "      <td>891.000000</td>\n",
       "      <td>891.000000</td>\n",
       "      <td>714.000000</td>\n",
       "      <td>891.000000</td>\n",
       "      <td>891.000000</td>\n",
       "      <td>891.000000</td>\n",
       "    </tr>\n",
       "    <tr>\n",
       "      <th>mean</th>\n",
       "      <td>0.383838</td>\n",
       "      <td>2.308642</td>\n",
       "      <td>29.699118</td>\n",
       "      <td>0.523008</td>\n",
       "      <td>0.381594</td>\n",
       "      <td>32.204208</td>\n",
       "    </tr>\n",
       "    <tr>\n",
       "      <th>std</th>\n",
       "      <td>0.486592</td>\n",
       "      <td>0.836071</td>\n",
       "      <td>14.526497</td>\n",
       "      <td>1.102743</td>\n",
       "      <td>0.806057</td>\n",
       "      <td>49.693429</td>\n",
       "    </tr>\n",
       "    <tr>\n",
       "      <th>min</th>\n",
       "      <td>0.000000</td>\n",
       "      <td>1.000000</td>\n",
       "      <td>0.420000</td>\n",
       "      <td>0.000000</td>\n",
       "      <td>0.000000</td>\n",
       "      <td>0.000000</td>\n",
       "    </tr>\n",
       "    <tr>\n",
       "      <th>25%</th>\n",
       "      <td>0.000000</td>\n",
       "      <td>2.000000</td>\n",
       "      <td>20.125000</td>\n",
       "      <td>0.000000</td>\n",
       "      <td>0.000000</td>\n",
       "      <td>7.910400</td>\n",
       "    </tr>\n",
       "    <tr>\n",
       "      <th>50%</th>\n",
       "      <td>0.000000</td>\n",
       "      <td>3.000000</td>\n",
       "      <td>28.000000</td>\n",
       "      <td>0.000000</td>\n",
       "      <td>0.000000</td>\n",
       "      <td>14.454200</td>\n",
       "    </tr>\n",
       "    <tr>\n",
       "      <th>75%</th>\n",
       "      <td>1.000000</td>\n",
       "      <td>3.000000</td>\n",
       "      <td>38.000000</td>\n",
       "      <td>1.000000</td>\n",
       "      <td>0.000000</td>\n",
       "      <td>31.000000</td>\n",
       "    </tr>\n",
       "    <tr>\n",
       "      <th>max</th>\n",
       "      <td>1.000000</td>\n",
       "      <td>3.000000</td>\n",
       "      <td>80.000000</td>\n",
       "      <td>8.000000</td>\n",
       "      <td>6.000000</td>\n",
       "      <td>512.329200</td>\n",
       "    </tr>\n",
       "  </tbody>\n",
       "</table>\n",
       "</div>"
      ],
      "text/plain": [
       "         Survived      Pclass         Age       SibSp       Parch        Fare\n",
       "count  891.000000  891.000000  714.000000  891.000000  891.000000  891.000000\n",
       "mean     0.383838    2.308642   29.699118    0.523008    0.381594   32.204208\n",
       "std      0.486592    0.836071   14.526497    1.102743    0.806057   49.693429\n",
       "min      0.000000    1.000000    0.420000    0.000000    0.000000    0.000000\n",
       "25%      0.000000    2.000000   20.125000    0.000000    0.000000    7.910400\n",
       "50%      0.000000    3.000000   28.000000    0.000000    0.000000   14.454200\n",
       "75%      1.000000    3.000000   38.000000    1.000000    0.000000   31.000000\n",
       "max      1.000000    3.000000   80.000000    8.000000    6.000000  512.329200"
      ]
     },
     "execution_count": 60,
     "metadata": {},
     "output_type": "execute_result"
    }
   ],
   "source": [
    "df.describe()"
   ]
  }
 ],
 "metadata": {
  "kernelspec": {
   "display_name": "Python 3",
   "language": "python",
   "name": "python3"
  },
  "language_info": {
   "codemirror_mode": {
    "name": "ipython",
    "version": 3
   },
   "file_extension": ".py",
   "mimetype": "text/x-python",
   "name": "python",
   "nbconvert_exporter": "python",
   "pygments_lexer": "ipython3",
   "version": "3.7.3"
  },
  "toc": {
   "base_numbering": 1,
   "nav_menu": {},
   "number_sections": true,
   "sideBar": true,
   "skip_h1_title": false,
   "title_cell": "Table of Contents",
   "title_sidebar": "Contents",
   "toc_cell": false,
   "toc_position": {},
   "toc_section_display": true,
   "toc_window_display": false
  },
  "varInspector": {
   "cols": {
    "lenName": 16,
    "lenType": 16,
    "lenVar": 40
   },
   "kernels_config": {
    "python": {
     "delete_cmd_postfix": "",
     "delete_cmd_prefix": "del ",
     "library": "var_list.py",
     "varRefreshCmd": "print(var_dic_list())"
    },
    "r": {
     "delete_cmd_postfix": ") ",
     "delete_cmd_prefix": "rm(",
     "library": "var_list.r",
     "varRefreshCmd": "cat(var_dic_list()) "
    }
   },
   "types_to_exclude": [
    "module",
    "function",
    "builtin_function_or_method",
    "instance",
    "_Feature"
   ],
   "window_display": false
  }
 },
 "nbformat": 4,
 "nbformat_minor": 2
}
